{
 "cells": [
  {
   "cell_type": "markdown",
   "id": "b5adee0c",
   "metadata": {},
   "source": [
    "### Relevant Libraries"
   ]
  },
  {
   "cell_type": "code",
   "execution_count": 1,
   "id": "e5de3b38",
   "metadata": {},
   "outputs": [],
   "source": [
    "# Importing libraries\n",
    "import pandas as pd\n",
    "import numpy as np\n",
    "import matplotlib.pyplot as plt\n",
    "import seaborn as sns\n",
    "sns.set()\n",
    "\n",
    "from sklearn.preprocessing import LabelEncoder\n",
    "from sklearn import metrics\n",
    "from sklearn.model_selection import train_test_split, GridSearchCV, RandomizedSearchCV\n",
    "from sklearn.metrics import balanced_accuracy_score, roc_auc_score, make_scorer, confusion_matrix, plot_confusion_matrix\n",
    "from datetime import datetime, timedelta\n",
    "\n",
    "import pickle\n",
    "\n",
    "import os\n",
    "os.environ['KMP_DUPLICATE_LIB_OK']='True'\n",
    "import xgboost as xgb"
   ]
  },
  {
   "cell_type": "markdown",
   "id": "de86ac0c",
   "metadata": {},
   "source": [
    "### Importing Data"
   ]
  },
  {
   "cell_type": "code",
   "execution_count": 2,
   "id": "8a99c400",
   "metadata": {},
   "outputs": [],
   "source": [
    "delivery_data= pd.read_csv(\"C:\\\\Users\\\\Aayushi\\\\Desktop\\\\Rider-Driven(Model)\\\\train.csv\")"
   ]
  },
  {
   "cell_type": "code",
   "execution_count": 3,
   "id": "353495e3",
   "metadata": {},
   "outputs": [
    {
     "data": {
      "text/html": [
       "<div>\n",
       "<style scoped>\n",
       "    .dataframe tbody tr th:only-of-type {\n",
       "        vertical-align: middle;\n",
       "    }\n",
       "\n",
       "    .dataframe tbody tr th {\n",
       "        vertical-align: top;\n",
       "    }\n",
       "\n",
       "    .dataframe thead th {\n",
       "        text-align: right;\n",
       "    }\n",
       "</style>\n",
       "<table border=\"1\" class=\"dataframe\">\n",
       "  <thead>\n",
       "    <tr style=\"text-align: right;\">\n",
       "      <th></th>\n",
       "      <th>order_time</th>\n",
       "      <th>order_id</th>\n",
       "      <th>order_date</th>\n",
       "      <th>allot_time</th>\n",
       "      <th>accept_time</th>\n",
       "      <th>pickup_time</th>\n",
       "      <th>delivered_time</th>\n",
       "      <th>rider_id</th>\n",
       "      <th>first_mile_distance</th>\n",
       "      <th>last_mile_distance</th>\n",
       "      <th>alloted_orders</th>\n",
       "      <th>delivered_orders</th>\n",
       "      <th>cancelled</th>\n",
       "      <th>undelivered_orders</th>\n",
       "      <th>lifetime_order_count</th>\n",
       "      <th>reassignment_method</th>\n",
       "      <th>reassignment_reason</th>\n",
       "      <th>reassigned_order</th>\n",
       "      <th>session_time</th>\n",
       "      <th>cancelled_time</th>\n",
       "    </tr>\n",
       "  </thead>\n",
       "  <tbody>\n",
       "    <tr>\n",
       "      <th>0</th>\n",
       "      <td>2021-01-26 02:21:35</td>\n",
       "      <td>556753</td>\n",
       "      <td>2021-01-26 00:00:00</td>\n",
       "      <td>2021-01-26 02:21:59</td>\n",
       "      <td>2021-01-26 02:22:08</td>\n",
       "      <td>2021-01-26 02:32:51</td>\n",
       "      <td>2021-01-26 02:49:47</td>\n",
       "      <td>11696</td>\n",
       "      <td>1.5666</td>\n",
       "      <td>2.65</td>\n",
       "      <td>46.0</td>\n",
       "      <td>46.0</td>\n",
       "      <td>0</td>\n",
       "      <td>0.0</td>\n",
       "      <td>621.0</td>\n",
       "      <td>NaN</td>\n",
       "      <td>NaN</td>\n",
       "      <td>NaN</td>\n",
       "      <td>NaN</td>\n",
       "      <td>NaN</td>\n",
       "    </tr>\n",
       "    <tr>\n",
       "      <th>1</th>\n",
       "      <td>2021-01-26 02:33:16</td>\n",
       "      <td>556754</td>\n",
       "      <td>2021-01-26 00:00:00</td>\n",
       "      <td>2021-01-26 02:33:57</td>\n",
       "      <td>2021-01-26 02:34:45</td>\n",
       "      <td>2021-01-26 02:50:25</td>\n",
       "      <td>2021-01-26 03:11:15</td>\n",
       "      <td>18117</td>\n",
       "      <td>2.5207</td>\n",
       "      <td>2.76</td>\n",
       "      <td>8.0</td>\n",
       "      <td>8.0</td>\n",
       "      <td>0</td>\n",
       "      <td>0.0</td>\n",
       "      <td>105.0</td>\n",
       "      <td>NaN</td>\n",
       "      <td>NaN</td>\n",
       "      <td>NaN</td>\n",
       "      <td>3.266667</td>\n",
       "      <td>NaN</td>\n",
       "    </tr>\n",
       "    <tr>\n",
       "      <th>2</th>\n",
       "      <td>2021-01-26 02:39:49</td>\n",
       "      <td>556755</td>\n",
       "      <td>2021-01-26 00:00:00</td>\n",
       "      <td>2021-01-26 02:39:57</td>\n",
       "      <td>2021-01-26 02:40:13</td>\n",
       "      <td>2021-01-26 02:56:00</td>\n",
       "      <td>2021-01-26 03:12:46</td>\n",
       "      <td>18623</td>\n",
       "      <td>2.2074</td>\n",
       "      <td>4.80</td>\n",
       "      <td>1.0</td>\n",
       "      <td>1.0</td>\n",
       "      <td>0</td>\n",
       "      <td>0.0</td>\n",
       "      <td>66.0</td>\n",
       "      <td>NaN</td>\n",
       "      <td>NaN</td>\n",
       "      <td>NaN</td>\n",
       "      <td>9.816667</td>\n",
       "      <td>NaN</td>\n",
       "    </tr>\n",
       "    <tr>\n",
       "      <th>3</th>\n",
       "      <td>2021-01-26 02:47:53</td>\n",
       "      <td>556756</td>\n",
       "      <td>2021-01-26 00:00:00</td>\n",
       "      <td>2021-01-26 02:48:25</td>\n",
       "      <td>2021-01-26 02:49:06</td>\n",
       "      <td>2021-01-26 03:21:51</td>\n",
       "      <td>2021-01-26 03:41:05</td>\n",
       "      <td>15945</td>\n",
       "      <td>2.1894</td>\n",
       "      <td>6.38</td>\n",
       "      <td>1.0</td>\n",
       "      <td>1.0</td>\n",
       "      <td>0</td>\n",
       "      <td>0.0</td>\n",
       "      <td>127.0</td>\n",
       "      <td>NaN</td>\n",
       "      <td>NaN</td>\n",
       "      <td>NaN</td>\n",
       "      <td>17.533333</td>\n",
       "      <td>NaN</td>\n",
       "    </tr>\n",
       "    <tr>\n",
       "      <th>4</th>\n",
       "      <td>2021-01-26 03:06:30</td>\n",
       "      <td>556757</td>\n",
       "      <td>2021-01-26 00:00:00</td>\n",
       "      <td>2021-01-26 03:07:21</td>\n",
       "      <td>2021-01-26 03:07:57</td>\n",
       "      <td>2021-01-26 03:31:38</td>\n",
       "      <td>2021-01-26 04:00:15</td>\n",
       "      <td>17589</td>\n",
       "      <td>2.7870</td>\n",
       "      <td>4.01</td>\n",
       "      <td>34.0</td>\n",
       "      <td>34.0</td>\n",
       "      <td>0</td>\n",
       "      <td>0.0</td>\n",
       "      <td>84.0</td>\n",
       "      <td>NaN</td>\n",
       "      <td>NaN</td>\n",
       "      <td>NaN</td>\n",
       "      <td>1.350000</td>\n",
       "      <td>NaN</td>\n",
       "    </tr>\n",
       "  </tbody>\n",
       "</table>\n",
       "</div>"
      ],
      "text/plain": [
       "            order_time  order_id           order_date           allot_time  \\\n",
       "0  2021-01-26 02:21:35    556753  2021-01-26 00:00:00  2021-01-26 02:21:59   \n",
       "1  2021-01-26 02:33:16    556754  2021-01-26 00:00:00  2021-01-26 02:33:57   \n",
       "2  2021-01-26 02:39:49    556755  2021-01-26 00:00:00  2021-01-26 02:39:57   \n",
       "3  2021-01-26 02:47:53    556756  2021-01-26 00:00:00  2021-01-26 02:48:25   \n",
       "4  2021-01-26 03:06:30    556757  2021-01-26 00:00:00  2021-01-26 03:07:21   \n",
       "\n",
       "           accept_time          pickup_time       delivered_time  rider_id  \\\n",
       "0  2021-01-26 02:22:08  2021-01-26 02:32:51  2021-01-26 02:49:47     11696   \n",
       "1  2021-01-26 02:34:45  2021-01-26 02:50:25  2021-01-26 03:11:15     18117   \n",
       "2  2021-01-26 02:40:13  2021-01-26 02:56:00  2021-01-26 03:12:46     18623   \n",
       "3  2021-01-26 02:49:06  2021-01-26 03:21:51  2021-01-26 03:41:05     15945   \n",
       "4  2021-01-26 03:07:57  2021-01-26 03:31:38  2021-01-26 04:00:15     17589   \n",
       "\n",
       "   first_mile_distance  last_mile_distance  alloted_orders  delivered_orders  \\\n",
       "0               1.5666                2.65            46.0              46.0   \n",
       "1               2.5207                2.76             8.0               8.0   \n",
       "2               2.2074                4.80             1.0               1.0   \n",
       "3               2.1894                6.38             1.0               1.0   \n",
       "4               2.7870                4.01            34.0              34.0   \n",
       "\n",
       "   cancelled  undelivered_orders  lifetime_order_count reassignment_method  \\\n",
       "0          0                 0.0                 621.0                 NaN   \n",
       "1          0                 0.0                 105.0                 NaN   \n",
       "2          0                 0.0                  66.0                 NaN   \n",
       "3          0                 0.0                 127.0                 NaN   \n",
       "4          0                 0.0                  84.0                 NaN   \n",
       "\n",
       "  reassignment_reason  reassigned_order  session_time cancelled_time  \n",
       "0                 NaN               NaN           NaN            NaN  \n",
       "1                 NaN               NaN      3.266667            NaN  \n",
       "2                 NaN               NaN      9.816667            NaN  \n",
       "3                 NaN               NaN     17.533333            NaN  \n",
       "4                 NaN               NaN      1.350000            NaN  "
      ]
     },
     "execution_count": 3,
     "metadata": {},
     "output_type": "execute_result"
    }
   ],
   "source": [
    "train_data=delivery_data.copy()\n",
    "train_data.head()"
   ]
  },
  {
   "cell_type": "code",
   "execution_count": 4,
   "id": "f41ce19f",
   "metadata": {},
   "outputs": [
    {
     "data": {
      "text/html": [
       "<div>\n",
       "<style scoped>\n",
       "    .dataframe tbody tr th:only-of-type {\n",
       "        vertical-align: middle;\n",
       "    }\n",
       "\n",
       "    .dataframe tbody tr th {\n",
       "        vertical-align: top;\n",
       "    }\n",
       "\n",
       "    .dataframe thead th {\n",
       "        text-align: right;\n",
       "    }\n",
       "</style>\n",
       "<table border=\"1\" class=\"dataframe\">\n",
       "  <thead>\n",
       "    <tr style=\"text-align: right;\">\n",
       "      <th></th>\n",
       "      <th>order_time</th>\n",
       "      <th>order_id</th>\n",
       "      <th>order_date</th>\n",
       "      <th>allot_time</th>\n",
       "      <th>accept_time</th>\n",
       "      <th>rider_id</th>\n",
       "      <th>first_mile_distance</th>\n",
       "      <th>last_mile_distance</th>\n",
       "      <th>alloted_orders</th>\n",
       "      <th>delivered_orders</th>\n",
       "      <th>undelivered_orders</th>\n",
       "      <th>lifetime_order_count</th>\n",
       "      <th>reassignment_method</th>\n",
       "      <th>reassignment_reason</th>\n",
       "      <th>reassigned_order</th>\n",
       "      <th>session_time</th>\n",
       "    </tr>\n",
       "  </thead>\n",
       "  <tbody>\n",
       "    <tr>\n",
       "      <th>0</th>\n",
       "      <td>2021-02-06 10:03:24</td>\n",
       "      <td>130231</td>\n",
       "      <td>2021-02-06 00:00:00</td>\n",
       "      <td>2021-02-06 10:03:49</td>\n",
       "      <td>2021-02-06 10:04:15</td>\n",
       "      <td>12884</td>\n",
       "      <td>1.6585</td>\n",
       "      <td>4.54</td>\n",
       "      <td>216.0</td>\n",
       "      <td>215.0</td>\n",
       "      <td>1.0</td>\n",
       "      <td>747.0</td>\n",
       "      <td>NaN</td>\n",
       "      <td>NaN</td>\n",
       "      <td>NaN</td>\n",
       "      <td>273.400000</td>\n",
       "    </tr>\n",
       "    <tr>\n",
       "      <th>1</th>\n",
       "      <td>2021-02-06 10:03:26</td>\n",
       "      <td>130232</td>\n",
       "      <td>2021-02-06 00:00:00</td>\n",
       "      <td>2021-02-06 10:03:27</td>\n",
       "      <td>2021-02-06 10:03:36</td>\n",
       "      <td>3541</td>\n",
       "      <td>2.0709</td>\n",
       "      <td>5.84</td>\n",
       "      <td>52.0</td>\n",
       "      <td>52.0</td>\n",
       "      <td>0.0</td>\n",
       "      <td>75.0</td>\n",
       "      <td>NaN</td>\n",
       "      <td>NaN</td>\n",
       "      <td>NaN</td>\n",
       "      <td>252.100000</td>\n",
       "    </tr>\n",
       "    <tr>\n",
       "      <th>2</th>\n",
       "      <td>2021-02-06 10:03:27</td>\n",
       "      <td>130233</td>\n",
       "      <td>2021-02-06 00:00:00</td>\n",
       "      <td>2021-02-06 10:04:14</td>\n",
       "      <td>2021-02-06 10:05:34</td>\n",
       "      <td>603</td>\n",
       "      <td>1.3884</td>\n",
       "      <td>0.99</td>\n",
       "      <td>289.0</td>\n",
       "      <td>289.0</td>\n",
       "      <td>0.0</td>\n",
       "      <td>2214.0</td>\n",
       "      <td>NaN</td>\n",
       "      <td>NaN</td>\n",
       "      <td>NaN</td>\n",
       "      <td>241.383333</td>\n",
       "    </tr>\n",
       "    <tr>\n",
       "      <th>3</th>\n",
       "      <td>2021-02-06 10:03:29</td>\n",
       "      <td>130234</td>\n",
       "      <td>2021-02-06 00:00:00</td>\n",
       "      <td>2021-02-06 10:03:30</td>\n",
       "      <td>2021-02-06 10:03:53</td>\n",
       "      <td>3414</td>\n",
       "      <td>1.9039</td>\n",
       "      <td>2.59</td>\n",
       "      <td>125.0</td>\n",
       "      <td>122.0</td>\n",
       "      <td>3.0</td>\n",
       "      <td>1020.0</td>\n",
       "      <td>NaN</td>\n",
       "      <td>NaN</td>\n",
       "      <td>NaN</td>\n",
       "      <td>291.933333</td>\n",
       "    </tr>\n",
       "    <tr>\n",
       "      <th>4</th>\n",
       "      <td>2021-02-06 10:03:35</td>\n",
       "      <td>130235</td>\n",
       "      <td>2021-02-06 00:00:00</td>\n",
       "      <td>2021-02-06 10:03:43</td>\n",
       "      <td>2021-02-06 10:04:43</td>\n",
       "      <td>1426</td>\n",
       "      <td>0.8275</td>\n",
       "      <td>0.94</td>\n",
       "      <td>352.0</td>\n",
       "      <td>350.0</td>\n",
       "      <td>2.0</td>\n",
       "      <td>7284.0</td>\n",
       "      <td>NaN</td>\n",
       "      <td>NaN</td>\n",
       "      <td>NaN</td>\n",
       "      <td>247.133333</td>\n",
       "    </tr>\n",
       "  </tbody>\n",
       "</table>\n",
       "</div>"
      ],
      "text/plain": [
       "            order_time  order_id           order_date           allot_time  \\\n",
       "0  2021-02-06 10:03:24    130231  2021-02-06 00:00:00  2021-02-06 10:03:49   \n",
       "1  2021-02-06 10:03:26    130232  2021-02-06 00:00:00  2021-02-06 10:03:27   \n",
       "2  2021-02-06 10:03:27    130233  2021-02-06 00:00:00  2021-02-06 10:04:14   \n",
       "3  2021-02-06 10:03:29    130234  2021-02-06 00:00:00  2021-02-06 10:03:30   \n",
       "4  2021-02-06 10:03:35    130235  2021-02-06 00:00:00  2021-02-06 10:03:43   \n",
       "\n",
       "           accept_time  rider_id  first_mile_distance  last_mile_distance  \\\n",
       "0  2021-02-06 10:04:15     12884               1.6585                4.54   \n",
       "1  2021-02-06 10:03:36      3541               2.0709                5.84   \n",
       "2  2021-02-06 10:05:34       603               1.3884                0.99   \n",
       "3  2021-02-06 10:03:53      3414               1.9039                2.59   \n",
       "4  2021-02-06 10:04:43      1426               0.8275                0.94   \n",
       "\n",
       "   alloted_orders  delivered_orders  undelivered_orders  lifetime_order_count  \\\n",
       "0           216.0             215.0                 1.0                 747.0   \n",
       "1            52.0              52.0                 0.0                  75.0   \n",
       "2           289.0             289.0                 0.0                2214.0   \n",
       "3           125.0             122.0                 3.0                1020.0   \n",
       "4           352.0             350.0                 2.0                7284.0   \n",
       "\n",
       "  reassignment_method reassignment_reason  reassigned_order  session_time  \n",
       "0                 NaN                 NaN               NaN    273.400000  \n",
       "1                 NaN                 NaN               NaN    252.100000  \n",
       "2                 NaN                 NaN               NaN    241.383333  \n",
       "3                 NaN                 NaN               NaN    291.933333  \n",
       "4                 NaN                 NaN               NaN    247.133333  "
      ]
     },
     "execution_count": 4,
     "metadata": {},
     "output_type": "execute_result"
    }
   ],
   "source": [
    "test_data= pd.read_csv(\"C:\\\\Users\\\\Aayushi\\\\Desktop\\\\Rider-Driven(Model)\\\\test.csv\")\n",
    "test_data.head()"
   ]
  },
  {
   "cell_type": "code",
   "execution_count": 5,
   "id": "12adda26",
   "metadata": {},
   "outputs": [
    {
     "data": {
      "text/html": [
       "<div>\n",
       "<style scoped>\n",
       "    .dataframe tbody tr th:only-of-type {\n",
       "        vertical-align: middle;\n",
       "    }\n",
       "\n",
       "    .dataframe tbody tr th {\n",
       "        vertical-align: top;\n",
       "    }\n",
       "\n",
       "    .dataframe thead th {\n",
       "        text-align: right;\n",
       "    }\n",
       "</style>\n",
       "<table border=\"1\" class=\"dataframe\">\n",
       "  <thead>\n",
       "    <tr style=\"text-align: right;\">\n",
       "      <th></th>\n",
       "      <th>order_id</th>\n",
       "    </tr>\n",
       "  </thead>\n",
       "  <tbody>\n",
       "    <tr>\n",
       "      <th>0</th>\n",
       "      <td>130231</td>\n",
       "    </tr>\n",
       "    <tr>\n",
       "      <th>1</th>\n",
       "      <td>130232</td>\n",
       "    </tr>\n",
       "    <tr>\n",
       "      <th>2</th>\n",
       "      <td>130233</td>\n",
       "    </tr>\n",
       "    <tr>\n",
       "      <th>3</th>\n",
       "      <td>130234</td>\n",
       "    </tr>\n",
       "    <tr>\n",
       "      <th>4</th>\n",
       "      <td>130235</td>\n",
       "    </tr>\n",
       "  </tbody>\n",
       "</table>\n",
       "</div>"
      ],
      "text/plain": [
       "   order_id\n",
       "0    130231\n",
       "1    130232\n",
       "2    130233\n",
       "3    130234\n",
       "4    130235"
      ]
     },
     "execution_count": 5,
     "metadata": {},
     "output_type": "execute_result"
    }
   ],
   "source": [
    "my_submission = pd.DataFrame({'order_id': test_data.order_id})\n",
    "my_submission.head()"
   ]
  },
  {
   "cell_type": "markdown",
   "id": "b8e0f496",
   "metadata": {},
   "source": [
    "### Data Exploration"
   ]
  },
  {
   "cell_type": "code",
   "execution_count": 6,
   "id": "bce28011",
   "metadata": {},
   "outputs": [
    {
     "data": {
      "text/plain": [
       "array(['order_time', 'order_id', 'order_date', 'allot_time',\n",
       "       'accept_time', 'pickup_time', 'delivered_time', 'rider_id',\n",
       "       'first_mile_distance', 'last_mile_distance', 'alloted_orders',\n",
       "       'delivered_orders', 'cancelled', 'undelivered_orders',\n",
       "       'lifetime_order_count', 'reassignment_method',\n",
       "       'reassignment_reason', 'reassigned_order', 'session_time',\n",
       "       'cancelled_time'], dtype=object)"
      ]
     },
     "execution_count": 6,
     "metadata": {},
     "output_type": "execute_result"
    }
   ],
   "source": [
    "train_data.columns.values"
   ]
  },
  {
   "cell_type": "code",
   "execution_count": 7,
   "id": "2470d63f",
   "metadata": {},
   "outputs": [
    {
     "data": {
      "text/plain": [
       "order_time                   0\n",
       "order_id                     0\n",
       "order_date                   0\n",
       "allot_time                   0\n",
       "accept_time                157\n",
       "pickup_time               2421\n",
       "delivered_time            5218\n",
       "rider_id                     0\n",
       "first_mile_distance          0\n",
       "last_mile_distance           0\n",
       "alloted_orders           16948\n",
       "delivered_orders         17341\n",
       "cancelled                    0\n",
       "undelivered_orders       17341\n",
       "lifetime_order_count        53\n",
       "reassignment_method     436256\n",
       "reassignment_reason     436247\n",
       "reassigned_order        436247\n",
       "session_time              3675\n",
       "cancelled_time          444782\n",
       "dtype: int64"
      ]
     },
     "execution_count": 7,
     "metadata": {},
     "output_type": "execute_result"
    }
   ],
   "source": [
    "train_data.isna().sum()"
   ]
  },
  {
   "cell_type": "code",
   "execution_count": 8,
   "id": "e7952a8b",
   "metadata": {},
   "outputs": [
    {
     "data": {
      "text/plain": [
       "order_time                   0\n",
       "order_id                     0\n",
       "order_date                   0\n",
       "allot_time                   0\n",
       "accept_time                 68\n",
       "rider_id                     0\n",
       "first_mile_distance          0\n",
       "last_mile_distance           0\n",
       "alloted_orders            4773\n",
       "delivered_orders          4884\n",
       "undelivered_orders        4884\n",
       "lifetime_order_count       778\n",
       "reassignment_method     140212\n",
       "reassignment_reason     140209\n",
       "reassigned_order        140209\n",
       "session_time              5054\n",
       "dtype: int64"
      ]
     },
     "execution_count": 8,
     "metadata": {},
     "output_type": "execute_result"
    }
   ],
   "source": [
    "test_data.isna().sum()"
   ]
  },
  {
   "cell_type": "code",
   "execution_count": 9,
   "id": "76d2f791",
   "metadata": {},
   "outputs": [
    {
     "data": {
      "text/plain": [
       "order_time               object\n",
       "order_id                  int64\n",
       "order_date               object\n",
       "allot_time               object\n",
       "accept_time              object\n",
       "pickup_time              object\n",
       "delivered_time           object\n",
       "rider_id                  int64\n",
       "first_mile_distance     float64\n",
       "last_mile_distance      float64\n",
       "alloted_orders          float64\n",
       "delivered_orders        float64\n",
       "cancelled                 int64\n",
       "undelivered_orders      float64\n",
       "lifetime_order_count    float64\n",
       "reassignment_method      object\n",
       "reassignment_reason      object\n",
       "reassigned_order        float64\n",
       "session_time            float64\n",
       "cancelled_time           object\n",
       "dtype: object"
      ]
     },
     "execution_count": 9,
     "metadata": {},
     "output_type": "execute_result"
    }
   ],
   "source": [
    "train_data.dtypes"
   ]
  },
  {
   "cell_type": "code",
   "execution_count": 10,
   "id": "af9628f3",
   "metadata": {},
   "outputs": [
    {
     "data": {
      "text/html": [
       "<div>\n",
       "<style scoped>\n",
       "    .dataframe tbody tr th:only-of-type {\n",
       "        vertical-align: middle;\n",
       "    }\n",
       "\n",
       "    .dataframe tbody tr th {\n",
       "        vertical-align: top;\n",
       "    }\n",
       "\n",
       "    .dataframe thead th {\n",
       "        text-align: right;\n",
       "    }\n",
       "</style>\n",
       "<table border=\"1\" class=\"dataframe\">\n",
       "  <thead>\n",
       "    <tr style=\"text-align: right;\">\n",
       "      <th></th>\n",
       "      <th>order_id</th>\n",
       "      <th>rider_id</th>\n",
       "      <th>first_mile_distance</th>\n",
       "      <th>last_mile_distance</th>\n",
       "      <th>alloted_orders</th>\n",
       "      <th>delivered_orders</th>\n",
       "      <th>cancelled</th>\n",
       "      <th>undelivered_orders</th>\n",
       "      <th>lifetime_order_count</th>\n",
       "      <th>reassigned_order</th>\n",
       "      <th>session_time</th>\n",
       "    </tr>\n",
       "  </thead>\n",
       "  <tbody>\n",
       "    <tr>\n",
       "      <th>count</th>\n",
       "      <td>450000.000000</td>\n",
       "      <td>450000.000000</td>\n",
       "      <td>450000.000000</td>\n",
       "      <td>450000.000000</td>\n",
       "      <td>433052.000000</td>\n",
       "      <td>432659.000000</td>\n",
       "      <td>450000.000000</td>\n",
       "      <td>432659.000000</td>\n",
       "      <td>449947.000000</td>\n",
       "      <td>13753.0</td>\n",
       "      <td>446325.000000</td>\n",
       "    </tr>\n",
       "    <tr>\n",
       "      <th>mean</th>\n",
       "      <td>369143.080767</td>\n",
       "      <td>7763.244016</td>\n",
       "      <td>1.229889</td>\n",
       "      <td>2.968873</td>\n",
       "      <td>104.620909</td>\n",
       "      <td>103.950448</td>\n",
       "      <td>0.011596</td>\n",
       "      <td>0.764165</td>\n",
       "      <td>853.640664</td>\n",
       "      <td>1.0</td>\n",
       "      <td>220.474779</td>\n",
       "    </tr>\n",
       "    <tr>\n",
       "      <th>std</th>\n",
       "      <td>131146.906408</td>\n",
       "      <td>5592.880135</td>\n",
       "      <td>0.846183</td>\n",
       "      <td>1.884124</td>\n",
       "      <td>90.135492</td>\n",
       "      <td>89.639646</td>\n",
       "      <td>0.107057</td>\n",
       "      <td>1.066473</td>\n",
       "      <td>1502.976162</td>\n",
       "      <td>0.0</td>\n",
       "      <td>176.713853</td>\n",
       "    </tr>\n",
       "    <tr>\n",
       "      <th>min</th>\n",
       "      <td>118350.000000</td>\n",
       "      <td>0.000000</td>\n",
       "      <td>0.000134</td>\n",
       "      <td>0.000000</td>\n",
       "      <td>1.000000</td>\n",
       "      <td>1.000000</td>\n",
       "      <td>0.000000</td>\n",
       "      <td>0.000000</td>\n",
       "      <td>0.000000</td>\n",
       "      <td>1.0</td>\n",
       "      <td>0.000000</td>\n",
       "    </tr>\n",
       "    <tr>\n",
       "      <th>25%</th>\n",
       "      <td>257342.750000</td>\n",
       "      <td>2805.000000</td>\n",
       "      <td>0.539575</td>\n",
       "      <td>1.470000</td>\n",
       "      <td>36.000000</td>\n",
       "      <td>36.000000</td>\n",
       "      <td>0.000000</td>\n",
       "      <td>0.000000</td>\n",
       "      <td>165.000000</td>\n",
       "      <td>1.0</td>\n",
       "      <td>84.100000</td>\n",
       "    </tr>\n",
       "    <tr>\n",
       "      <th>50%</th>\n",
       "      <td>369842.500000</td>\n",
       "      <td>6754.000000</td>\n",
       "      <td>1.138700</td>\n",
       "      <td>2.670000</td>\n",
       "      <td>81.000000</td>\n",
       "      <td>81.000000</td>\n",
       "      <td>0.000000</td>\n",
       "      <td>0.000000</td>\n",
       "      <td>396.000000</td>\n",
       "      <td>1.0</td>\n",
       "      <td>175.550000</td>\n",
       "    </tr>\n",
       "    <tr>\n",
       "      <th>75%</th>\n",
       "      <td>482342.250000</td>\n",
       "      <td>11965.000000</td>\n",
       "      <td>1.853000</td>\n",
       "      <td>4.220000</td>\n",
       "      <td>147.000000</td>\n",
       "      <td>146.000000</td>\n",
       "      <td>0.000000</td>\n",
       "      <td>1.000000</td>\n",
       "      <td>948.000000</td>\n",
       "      <td>1.0</td>\n",
       "      <td>316.766667</td>\n",
       "    </tr>\n",
       "    <tr>\n",
       "      <th>max</th>\n",
       "      <td>594842.000000</td>\n",
       "      <td>21566.000000</td>\n",
       "      <td>42.038100</td>\n",
       "      <td>22.410000</td>\n",
       "      <td>567.000000</td>\n",
       "      <td>562.000000</td>\n",
       "      <td>1.000000</td>\n",
       "      <td>9.000000</td>\n",
       "      <td>30469.000000</td>\n",
       "      <td>1.0</td>\n",
       "      <td>1298.966667</td>\n",
       "    </tr>\n",
       "  </tbody>\n",
       "</table>\n",
       "</div>"
      ],
      "text/plain": [
       "            order_id       rider_id  first_mile_distance  last_mile_distance  \\\n",
       "count  450000.000000  450000.000000        450000.000000       450000.000000   \n",
       "mean   369143.080767    7763.244016             1.229889            2.968873   \n",
       "std    131146.906408    5592.880135             0.846183            1.884124   \n",
       "min    118350.000000       0.000000             0.000134            0.000000   \n",
       "25%    257342.750000    2805.000000             0.539575            1.470000   \n",
       "50%    369842.500000    6754.000000             1.138700            2.670000   \n",
       "75%    482342.250000   11965.000000             1.853000            4.220000   \n",
       "max    594842.000000   21566.000000            42.038100           22.410000   \n",
       "\n",
       "       alloted_orders  delivered_orders      cancelled  undelivered_orders  \\\n",
       "count   433052.000000     432659.000000  450000.000000       432659.000000   \n",
       "mean       104.620909        103.950448       0.011596            0.764165   \n",
       "std         90.135492         89.639646       0.107057            1.066473   \n",
       "min          1.000000          1.000000       0.000000            0.000000   \n",
       "25%         36.000000         36.000000       0.000000            0.000000   \n",
       "50%         81.000000         81.000000       0.000000            0.000000   \n",
       "75%        147.000000        146.000000       0.000000            1.000000   \n",
       "max        567.000000        562.000000       1.000000            9.000000   \n",
       "\n",
       "       lifetime_order_count  reassigned_order   session_time  \n",
       "count         449947.000000           13753.0  446325.000000  \n",
       "mean             853.640664               1.0     220.474779  \n",
       "std             1502.976162               0.0     176.713853  \n",
       "min                0.000000               1.0       0.000000  \n",
       "25%              165.000000               1.0      84.100000  \n",
       "50%              396.000000               1.0     175.550000  \n",
       "75%              948.000000               1.0     316.766667  \n",
       "max            30469.000000               1.0    1298.966667  "
      ]
     },
     "execution_count": 10,
     "metadata": {},
     "output_type": "execute_result"
    }
   ],
   "source": [
    "train_data.describe()"
   ]
  },
  {
   "cell_type": "code",
   "execution_count": 11,
   "id": "18f20d30",
   "metadata": {},
   "outputs": [
    {
     "name": "stderr",
     "output_type": "stream",
     "text": [
      "C:\\Users\\Aayushi\\Anaconda3\\lib\\site-packages\\seaborn\\_decorators.py:36: FutureWarning: Pass the following variable as a keyword arg: x. From version 0.12, the only valid positional argument will be `data`, and passing other arguments without an explicit keyword will result in an error or misinterpretation.\n",
      "  warnings.warn(\n"
     ]
    },
    {
     "data": {
      "image/png": "[encoded data removed]",
      "text/plain": [
       "<Figure size 432x288 with 1 Axes>"
      ]
     },
     "metadata": {},
     "output_type": "display_data"
    }
   ],
   "source": [
    "plt.title('Distribution of target variable')\n",
    "sns.countplot(train_data['cancelled'])\n",
    "plt.show()"
   ]
  },
  {
   "cell_type": "code",
   "execution_count": 12,
   "id": "9ded77fa",
   "metadata": {},
   "outputs": [
    {
     "data": {
      "text/plain": [
       "0    444782\n",
       "1      5218\n",
       "Name: cancelled, dtype: int64"
      ]
     },
     "execution_count": 12,
     "metadata": {},
     "output_type": "execute_result"
    }
   ],
   "source": [
    "# Studying the target variable\n",
    "train_data['cancelled'].value_counts()"
   ]
  },
  {
   "cell_type": "markdown",
   "id": "1bef8806",
   "metadata": {},
   "source": [
    "### Data Preprocessing"
   ]
  },
  {
   "cell_type": "code",
   "execution_count": 13,
   "id": "216f87f6",
   "metadata": {},
   "outputs": [
    {
     "data": {
      "text/plain": [
       "0"
      ]
     },
     "execution_count": 13,
     "metadata": {},
     "output_type": "execute_result"
    }
   ],
   "source": [
    "#Checking if order_time and order_date column contains same date\n",
    "df_order=pd.Series(dtype=int)\n",
    "df_order=np.where((pd.to_datetime(train_data['order_time'])).dt.date != pd.to_datetime(train_data['order_date']), 1, 0)\n",
    "df_order.sum()"
   ]
  },
  {
   "cell_type": "code",
   "execution_count": 14,
   "id": "c2d8954d",
   "metadata": {},
   "outputs": [
    {
     "data": {
      "text/plain": [
       "array(['2021-01-26 00:00:00', '2021-01-27 00:00:00',\n",
       "       '2021-01-28 00:00:00', '2021-01-29 00:00:00',\n",
       "       '2021-01-30 00:00:00', '2021-01-31 00:00:00',\n",
       "       '2021-02-01 00:00:00', '2021-02-02 00:00:00',\n",
       "       '2021-02-03 00:00:00', '2021-02-04 00:00:00',\n",
       "       '2021-02-05 00:00:00', '2021-02-06 00:00:00'], dtype=object)"
      ]
     },
     "execution_count": 14,
     "metadata": {},
     "output_type": "execute_result"
    }
   ],
   "source": [
    "#spread of data\n",
    "train_data['order_date'].unique()"
   ]
  },
  {
   "cell_type": "code",
   "execution_count": 15,
   "id": "193dce5b",
   "metadata": {},
   "outputs": [],
   "source": [
    "# Dropping columns which will be of no use for our model\n",
    "col_list = ['order_id','order_date','pickup_time','delivered_time','rider_id','cancelled_time','reassignment_method','reassignment_reason']"
   ]
  },
  {
   "cell_type": "code",
   "execution_count": 16,
   "id": "8afd482c",
   "metadata": {},
   "outputs": [],
   "source": [
    "# Dropping columns which will be of no use for our model\n",
    "train_data = train_data.drop(col_list, axis=1, errors='ignore')\n",
    "test_data = test_data.drop(col_list, axis=1,errors='ignore')"
   ]
  },
  {
   "cell_type": "code",
   "execution_count": 17,
   "id": "02bc8831",
   "metadata": {},
   "outputs": [
    {
     "data": {
      "text/plain": [
       "[<matplotlib.lines.Line2D at 0x22732b4abe0>]"
      ]
     },
     "execution_count": 17,
     "metadata": {},
     "output_type": "execute_result"
    },
    {
     "data": {
      "image/png": "[encoded data removed]",
      "text/plain": [
       "<Figure size 432x288 with 1 Axes>"
      ]
     },
     "metadata": {},
     "output_type": "display_data"
    }
   ],
   "source": [
    "plt.plot(train_data['first_mile_distance'])"
   ]
  },
  {
   "cell_type": "code",
   "execution_count": 18,
   "id": "1dda7eb8",
   "metadata": {},
   "outputs": [],
   "source": [
    "train_data.drop(train_data[train_data['first_mile_distance'] == (train_data['first_mile_distance'].max())].index, inplace = True)"
   ]
  },
  {
   "cell_type": "code",
   "execution_count": 19,
   "id": "0fc1f4c9",
   "metadata": {},
   "outputs": [
    {
     "data": {
      "text/plain": [
       "[<matplotlib.lines.Line2D at 0x22731ea9d00>]"
      ]
     },
     "execution_count": 19,
     "metadata": {},
     "output_type": "execute_result"
    },
    {
     "data": {
      "image/png": "[encoded data removed]",
      "text/plain": [
       "<Figure size 432x288 with 1 Axes>"
      ]
     },
     "metadata": {},
     "output_type": "display_data"
    }
   ],
   "source": [
    "plt.plot(train_data['last_mile_distance'])"
   ]
  },
  {
   "cell_type": "code",
   "execution_count": 20,
   "id": "d0cfad47",
   "metadata": {},
   "outputs": [],
   "source": [
    "train_data['total_distance']=train_data['first_mile_distance']+ train_data['last_mile_distance']\n",
    "test_data['total_distance']=test_data['first_mile_distance']+ test_data['last_mile_distance']"
   ]
  },
  {
   "cell_type": "code",
   "execution_count": 21,
   "id": "36b9be4e",
   "metadata": {},
   "outputs": [],
   "source": [
    "# Dropping columns which will be of no use for our model\n",
    "col_list=['first_mile_distance','last_mile_distance']\n",
    "train_data = train_data.drop(col_list, axis=1)\n",
    "test_data = test_data.drop(col_list, axis=1)"
   ]
  },
  {
   "cell_type": "code",
   "execution_count": 22,
   "id": "bf53166d",
   "metadata": {},
   "outputs": [],
   "source": [
    "# Function to fill missing values by mean\n",
    "def fill_mean(imp_mean_list):\n",
    "    for i in imp_mean_list:\n",
    "        train_data[i] = train_data[i].fillna(train_data[i].mean())\n",
    "        test_data[i] = test_data[i].fillna(train_data[i].mean())"
   ]
  },
  {
   "cell_type": "code",
   "execution_count": 23,
   "id": "12e219e0",
   "metadata": {},
   "outputs": [],
   "source": [
    "fill_mean_list = ['alloted_orders', 'delivered_orders','undelivered_orders']\n",
    "fill_mean(fill_mean_list)"
   ]
  },
  {
   "cell_type": "code",
   "execution_count": 24,
   "id": "a881bfee",
   "metadata": {},
   "outputs": [],
   "source": [
    "train_data['lifetime_order_count']= np.where(train_data['lifetime_order_count'].isna(),train_data['alloted_orders'],train_data['lifetime_order_count'])\n",
    "test_data['lifetime_order_count']= np.where(test_data['lifetime_order_count'].isna(),test_data['alloted_orders'],test_data['lifetime_order_count'])"
   ]
  },
  {
   "cell_type": "code",
   "execution_count": 25,
   "id": "c9a5cdc7",
   "metadata": {},
   "outputs": [],
   "source": [
    "train_data['reassigned_order']=train_data['reassigned_order'].fillna(0)\n",
    "test_data['reassigned_order']=test_data['reassigned_order'].fillna(0)"
   ]
  },
  {
   "cell_type": "code",
   "execution_count": 26,
   "id": "2e52d2dd",
   "metadata": {},
   "outputs": [],
   "source": [
    "train_data['session_time']=train_data['session_time'].fillna(0)\n",
    "test_data['session_time']=test_data['session_time'].fillna(0)"
   ]
  },
  {
   "cell_type": "code",
   "execution_count": 27,
   "id": "5b4c366f",
   "metadata": {},
   "outputs": [
    {
     "data": {
      "text/plain": [
       "order_time                0\n",
       "allot_time                0\n",
       "accept_time             157\n",
       "alloted_orders            0\n",
       "delivered_orders          0\n",
       "cancelled                 0\n",
       "undelivered_orders        0\n",
       "lifetime_order_count      0\n",
       "reassigned_order          0\n",
       "session_time              0\n",
       "total_distance            0\n",
       "dtype: int64"
      ]
     },
     "execution_count": 27,
     "metadata": {},
     "output_type": "execute_result"
    }
   ],
   "source": [
    "train_data.isna().sum()"
   ]
  },
  {
   "cell_type": "code",
   "execution_count": 28,
   "id": "92304e2e",
   "metadata": {},
   "outputs": [],
   "source": [
    "train_data['%undelivered_orders']= train_data['undelivered_orders']/train_data['alloted_orders']\n",
    "test_data['%undelivered_orders']= test_data['undelivered_orders']/test_data['alloted_orders']"
   ]
  },
  {
   "cell_type": "code",
   "execution_count": 29,
   "id": "07c759a3",
   "metadata": {},
   "outputs": [],
   "source": [
    "train_data['odds_undeliver']= train_data['undelivered_orders']/train_data['delivered_orders']\n",
    "test_data['odds_undeliver']= test_data['undelivered_orders']/test_data['delivered_orders']"
   ]
  },
  {
   "cell_type": "code",
   "execution_count": 30,
   "id": "24dddccd",
   "metadata": {},
   "outputs": [],
   "source": [
    "train_data['allot_time']=  pd.to_datetime(train_data['allot_time'])- pd.to_datetime(train_data['order_time'])\n",
    "allot_time = []\n",
    "for i in train_data['allot_time']:\n",
    "    allot_time.append(i.total_seconds())\n",
    "    \n",
    "train_data['allot_time']=allot_time\n",
    "\n",
    "test_data['allot_time']=  pd.to_datetime(test_data['allot_time'])- pd.to_datetime(test_data['order_time'])\n",
    "allot_time = []\n",
    "for i in test_data['allot_time']:\n",
    "    allot_time.append(i.total_seconds())\n",
    "    \n",
    "test_data['allot_time']=allot_time"
   ]
  },
  {
   "cell_type": "code",
   "execution_count": 31,
   "id": "f856cc2e",
   "metadata": {},
   "outputs": [],
   "source": [
    "# Function to extraxt year and month from datetime data\n",
    "def conv_date(date_list):\n",
    "    for i in date_list:\n",
    "        train_data[i] = pd.to_datetime(train_data[i])\n",
    "        test_data[i] = pd.to_datetime(test_data[i])"
   ]
  },
  {
   "cell_type": "code",
   "execution_count": 32,
   "id": "c9558d03",
   "metadata": {},
   "outputs": [],
   "source": [
    "date_list = ['order_time']\n",
    "conv_date(date_list)"
   ]
  },
  {
   "cell_type": "code",
   "execution_count": 33,
   "id": "57381b19",
   "metadata": {},
   "outputs": [],
   "source": [
    "# Function to obtain year and month from datetime data\n",
    "def get_hour(colname, dfcolname):\n",
    "    train_data[colname] = train_data[dfcolname].apply(lambda x:x.hour)\n",
    "    test_data[colname] = test_data[dfcolname].apply(lambda x:x.hour)"
   ]
  },
  {
   "cell_type": "code",
   "execution_count": 34,
   "id": "624d7a1a",
   "metadata": {},
   "outputs": [],
   "source": [
    "get_hour('order_hour', 'order_time')"
   ]
  },
  {
   "cell_type": "code",
   "execution_count": 35,
   "id": "41e44df4",
   "metadata": {},
   "outputs": [],
   "source": [
    "# Dropping columns which will be of no use for our model\n",
    "col_list=['order_time','accept_time','delivered_orders','alloted_orders','undelivered_orders']\n",
    "train_data = train_data.drop(col_list, axis=1)\n",
    "test_data = test_data.drop(col_list, axis=1)"
   ]
  },
  {
   "cell_type": "markdown",
   "id": "7c4f0e5f",
   "metadata": {},
   "source": [
    "##### Categorising Order_time in 4 shifts\n",
    "22-8= Night Shift <br />\n",
    "8-12= Morning Shift <br />\n",
    "12-17= Afternoon Shift <br />\n",
    "17-22= Evening Shift <br />"
   ]
  },
  {
   "cell_type": "code",
   "execution_count": 36,
   "id": "7a6a9c6f",
   "metadata": {},
   "outputs": [],
   "source": [
    "train_order_time_shift=[]\n",
    "for i in train_data['order_hour']:\n",
    "    if((i<8) | (i>=22)):\n",
    "        train_order_time_shift.append(0)\n",
    "    elif((i>=8) & (i<12)):\n",
    "        train_order_time_shift.append(2)\n",
    "    elif((i>=12) & (i<17)):\n",
    "        train_order_time_shift.append(3)\n",
    "    else:\n",
    "        train_order_time_shift.append(1)\n",
    "\n",
    "test_order_time_shift=[]\n",
    "for i in test_data['order_hour']:\n",
    "    if((i<8) | (i>=22)):\n",
    "        test_order_time_shift.append(0)\n",
    "    elif((i>=8) & (i<12)):\n",
    "        test_order_time_shift.append(2)\n",
    "    elif((i>=12) & (i<17)):\n",
    "        test_order_time_shift.append(3)\n",
    "    else:\n",
    "        test_order_time_shift.append(1)"
   ]
  },
  {
   "cell_type": "code",
   "execution_count": 37,
   "id": "5cf85431",
   "metadata": {},
   "outputs": [],
   "source": [
    "train_data['order_hour']=train_order_time_shift\n",
    "test_data['order_hour']=test_order_time_shift"
   ]
  },
  {
   "cell_type": "code",
   "execution_count": 38,
   "id": "9d336954",
   "metadata": {},
   "outputs": [
    {
     "data": {
      "text/html": [
       "<div>\n",
       "<style scoped>\n",
       "    .dataframe tbody tr th:only-of-type {\n",
       "        vertical-align: middle;\n",
       "    }\n",
       "\n",
       "    .dataframe tbody tr th {\n",
       "        vertical-align: top;\n",
       "    }\n",
       "\n",
       "    .dataframe thead th {\n",
       "        text-align: right;\n",
       "    }\n",
       "</style>\n",
       "<table border=\"1\" class=\"dataframe\">\n",
       "  <thead>\n",
       "    <tr style=\"text-align: right;\">\n",
       "      <th></th>\n",
       "      <th>allot_time</th>\n",
       "      <th>cancelled</th>\n",
       "      <th>lifetime_order_count</th>\n",
       "      <th>reassigned_order</th>\n",
       "      <th>session_time</th>\n",
       "      <th>total_distance</th>\n",
       "      <th>%undelivered_orders</th>\n",
       "      <th>odds_undeliver</th>\n",
       "      <th>order_hour</th>\n",
       "    </tr>\n",
       "  </thead>\n",
       "  <tbody>\n",
       "    <tr>\n",
       "      <th>0</th>\n",
       "      <td>24.0</td>\n",
       "      <td>0</td>\n",
       "      <td>621.0</td>\n",
       "      <td>0.0</td>\n",
       "      <td>0.000000</td>\n",
       "      <td>4.2166</td>\n",
       "      <td>0.0</td>\n",
       "      <td>0.0</td>\n",
       "      <td>0</td>\n",
       "    </tr>\n",
       "    <tr>\n",
       "      <th>1</th>\n",
       "      <td>41.0</td>\n",
       "      <td>0</td>\n",
       "      <td>105.0</td>\n",
       "      <td>0.0</td>\n",
       "      <td>3.266667</td>\n",
       "      <td>5.2807</td>\n",
       "      <td>0.0</td>\n",
       "      <td>0.0</td>\n",
       "      <td>0</td>\n",
       "    </tr>\n",
       "    <tr>\n",
       "      <th>2</th>\n",
       "      <td>8.0</td>\n",
       "      <td>0</td>\n",
       "      <td>66.0</td>\n",
       "      <td>0.0</td>\n",
       "      <td>9.816667</td>\n",
       "      <td>7.0074</td>\n",
       "      <td>0.0</td>\n",
       "      <td>0.0</td>\n",
       "      <td>0</td>\n",
       "    </tr>\n",
       "    <tr>\n",
       "      <th>3</th>\n",
       "      <td>32.0</td>\n",
       "      <td>0</td>\n",
       "      <td>127.0</td>\n",
       "      <td>0.0</td>\n",
       "      <td>17.533333</td>\n",
       "      <td>8.5694</td>\n",
       "      <td>0.0</td>\n",
       "      <td>0.0</td>\n",
       "      <td>0</td>\n",
       "    </tr>\n",
       "    <tr>\n",
       "      <th>4</th>\n",
       "      <td>51.0</td>\n",
       "      <td>0</td>\n",
       "      <td>84.0</td>\n",
       "      <td>0.0</td>\n",
       "      <td>1.350000</td>\n",
       "      <td>6.7970</td>\n",
       "      <td>0.0</td>\n",
       "      <td>0.0</td>\n",
       "      <td>0</td>\n",
       "    </tr>\n",
       "  </tbody>\n",
       "</table>\n",
       "</div>"
      ],
      "text/plain": [
       "   allot_time  cancelled  lifetime_order_count  reassigned_order  \\\n",
       "0        24.0          0                 621.0               0.0   \n",
       "1        41.0          0                 105.0               0.0   \n",
       "2         8.0          0                  66.0               0.0   \n",
       "3        32.0          0                 127.0               0.0   \n",
       "4        51.0          0                  84.0               0.0   \n",
       "\n",
       "   session_time  total_distance  %undelivered_orders  odds_undeliver  \\\n",
       "0      0.000000          4.2166                  0.0             0.0   \n",
       "1      3.266667          5.2807                  0.0             0.0   \n",
       "2      9.816667          7.0074                  0.0             0.0   \n",
       "3     17.533333          8.5694                  0.0             0.0   \n",
       "4      1.350000          6.7970                  0.0             0.0   \n",
       "\n",
       "   order_hour  \n",
       "0           0  \n",
       "1           0  \n",
       "2           0  \n",
       "3           0  \n",
       "4           0  "
      ]
     },
     "execution_count": 38,
     "metadata": {},
     "output_type": "execute_result"
    }
   ],
   "source": [
    "train_data.head()"
   ]
  },
  {
   "cell_type": "code",
   "execution_count": 39,
   "id": "214955b5",
   "metadata": {},
   "outputs": [
    {
     "data": {
      "text/html": [
       "<div>\n",
       "<style scoped>\n",
       "    .dataframe tbody tr th:only-of-type {\n",
       "        vertical-align: middle;\n",
       "    }\n",
       "\n",
       "    .dataframe tbody tr th {\n",
       "        vertical-align: top;\n",
       "    }\n",
       "\n",
       "    .dataframe thead th {\n",
       "        text-align: right;\n",
       "    }\n",
       "</style>\n",
       "<table border=\"1\" class=\"dataframe\">\n",
       "  <thead>\n",
       "    <tr style=\"text-align: right;\">\n",
       "      <th></th>\n",
       "      <th>allot_time</th>\n",
       "      <th>lifetime_order_count</th>\n",
       "      <th>reassigned_order</th>\n",
       "      <th>session_time</th>\n",
       "      <th>total_distance</th>\n",
       "      <th>%undelivered_orders</th>\n",
       "      <th>odds_undeliver</th>\n",
       "      <th>order_hour</th>\n",
       "    </tr>\n",
       "  </thead>\n",
       "  <tbody>\n",
       "    <tr>\n",
       "      <th>0</th>\n",
       "      <td>25.0</td>\n",
       "      <td>747.0</td>\n",
       "      <td>0.0</td>\n",
       "      <td>273.400000</td>\n",
       "      <td>6.1985</td>\n",
       "      <td>0.004630</td>\n",
       "      <td>0.004651</td>\n",
       "      <td>2</td>\n",
       "    </tr>\n",
       "    <tr>\n",
       "      <th>1</th>\n",
       "      <td>1.0</td>\n",
       "      <td>75.0</td>\n",
       "      <td>0.0</td>\n",
       "      <td>252.100000</td>\n",
       "      <td>7.9109</td>\n",
       "      <td>0.000000</td>\n",
       "      <td>0.000000</td>\n",
       "      <td>2</td>\n",
       "    </tr>\n",
       "    <tr>\n",
       "      <th>2</th>\n",
       "      <td>47.0</td>\n",
       "      <td>2214.0</td>\n",
       "      <td>0.0</td>\n",
       "      <td>241.383333</td>\n",
       "      <td>2.3784</td>\n",
       "      <td>0.000000</td>\n",
       "      <td>0.000000</td>\n",
       "      <td>2</td>\n",
       "    </tr>\n",
       "    <tr>\n",
       "      <th>3</th>\n",
       "      <td>1.0</td>\n",
       "      <td>1020.0</td>\n",
       "      <td>0.0</td>\n",
       "      <td>291.933333</td>\n",
       "      <td>4.4939</td>\n",
       "      <td>0.024000</td>\n",
       "      <td>0.024590</td>\n",
       "      <td>2</td>\n",
       "    </tr>\n",
       "    <tr>\n",
       "      <th>4</th>\n",
       "      <td>8.0</td>\n",
       "      <td>7284.0</td>\n",
       "      <td>0.0</td>\n",
       "      <td>247.133333</td>\n",
       "      <td>1.7675</td>\n",
       "      <td>0.005682</td>\n",
       "      <td>0.005714</td>\n",
       "      <td>2</td>\n",
       "    </tr>\n",
       "  </tbody>\n",
       "</table>\n",
       "</div>"
      ],
      "text/plain": [
       "   allot_time  lifetime_order_count  reassigned_order  session_time  \\\n",
       "0        25.0                 747.0               0.0    273.400000   \n",
       "1         1.0                  75.0               0.0    252.100000   \n",
       "2        47.0                2214.0               0.0    241.383333   \n",
       "3         1.0                1020.0               0.0    291.933333   \n",
       "4         8.0                7284.0               0.0    247.133333   \n",
       "\n",
       "   total_distance  %undelivered_orders  odds_undeliver  order_hour  \n",
       "0          6.1985             0.004630        0.004651           2  \n",
       "1          7.9109             0.000000        0.000000           2  \n",
       "2          2.3784             0.000000        0.000000           2  \n",
       "3          4.4939             0.024000        0.024590           2  \n",
       "4          1.7675             0.005682        0.005714           2  "
      ]
     },
     "execution_count": 39,
     "metadata": {},
     "output_type": "execute_result"
    }
   ],
   "source": [
    "test_data.head()"
   ]
  },
  {
   "cell_type": "code",
   "execution_count": 40,
   "id": "88938397",
   "metadata": {},
   "outputs": [
    {
     "data": {
      "text/plain": [
       "allot_time                3195\n",
       "cancelled                    2\n",
       "lifetime_order_count      2888\n",
       "reassigned_order             2\n",
       "session_time             65872\n",
       "total_distance          187960\n",
       "%undelivered_orders       1342\n",
       "odds_undeliver            1335\n",
       "order_hour                   4\n",
       "dtype: int64"
      ]
     },
     "execution_count": 40,
     "metadata": {},
     "output_type": "execute_result"
    }
   ],
   "source": [
    "train_data.nunique()"
   ]
  },
  {
   "cell_type": "code",
   "execution_count": 41,
   "id": "4dd93290",
   "metadata": {},
   "outputs": [
    {
     "data": {
      "text/plain": [
       "allot_time               2445\n",
       "lifetime_order_count     2651\n",
       "reassigned_order            2\n",
       "session_time            47015\n",
       "total_distance          91784\n",
       "%undelivered_orders      1037\n",
       "odds_undeliver           1031\n",
       "order_hour                  4\n",
       "dtype: int64"
      ]
     },
     "execution_count": 41,
     "metadata": {},
     "output_type": "execute_result"
    }
   ],
   "source": [
    "test_data.nunique()"
   ]
  },
  {
   "cell_type": "markdown",
   "id": "ad052b8c",
   "metadata": {},
   "source": [
    "### Train-Test Split"
   ]
  },
  {
   "cell_type": "code",
   "execution_count": 42,
   "id": "3e419747",
   "metadata": {},
   "outputs": [],
   "source": [
    "# Splitting the data into training set and testset\n",
    "from sklearn.model_selection import train_test_split\n",
    "t_train, t_test = train_test_split(train_data, test_size = 0.25, stratify=train_data['cancelled'])"
   ]
  },
  {
   "cell_type": "markdown",
   "id": "aa7493cf",
   "metadata": {},
   "source": [
    "### Balancing"
   ]
  },
  {
   "cell_type": "code",
   "execution_count": 43,
   "id": "dbdf8c75",
   "metadata": {},
   "outputs": [
    {
     "data": {
      "text/html": [
       "<div>\n",
       "<style scoped>\n",
       "    .dataframe tbody tr th:only-of-type {\n",
       "        vertical-align: middle;\n",
       "    }\n",
       "\n",
       "    .dataframe tbody tr th {\n",
       "        vertical-align: top;\n",
       "    }\n",
       "\n",
       "    .dataframe thead th {\n",
       "        text-align: right;\n",
       "    }\n",
       "</style>\n",
       "<table border=\"1\" class=\"dataframe\">\n",
       "  <thead>\n",
       "    <tr style=\"text-align: right;\">\n",
       "      <th></th>\n",
       "      <th>allot_time</th>\n",
       "      <th>cancelled</th>\n",
       "      <th>lifetime_order_count</th>\n",
       "      <th>reassigned_order</th>\n",
       "      <th>session_time</th>\n",
       "      <th>total_distance</th>\n",
       "      <th>%undelivered_orders</th>\n",
       "      <th>odds_undeliver</th>\n",
       "      <th>order_hour</th>\n",
       "    </tr>\n",
       "  </thead>\n",
       "  <tbody>\n",
       "    <tr>\n",
       "      <th>190762</th>\n",
       "      <td>2.0</td>\n",
       "      <td>0</td>\n",
       "      <td>62.0</td>\n",
       "      <td>0.0</td>\n",
       "      <td>72.666667</td>\n",
       "      <td>3.9465</td>\n",
       "      <td>0.000000</td>\n",
       "      <td>0.000000</td>\n",
       "      <td>3</td>\n",
       "    </tr>\n",
       "    <tr>\n",
       "      <th>84507</th>\n",
       "      <td>44.0</td>\n",
       "      <td>0</td>\n",
       "      <td>3770.0</td>\n",
       "      <td>0.0</td>\n",
       "      <td>287.250000</td>\n",
       "      <td>2.2739</td>\n",
       "      <td>0.018868</td>\n",
       "      <td>0.019231</td>\n",
       "      <td>2</td>\n",
       "    </tr>\n",
       "    <tr>\n",
       "      <th>384199</th>\n",
       "      <td>2.0</td>\n",
       "      <td>0</td>\n",
       "      <td>1398.0</td>\n",
       "      <td>0.0</td>\n",
       "      <td>534.033333</td>\n",
       "      <td>7.7549</td>\n",
       "      <td>0.000000</td>\n",
       "      <td>0.000000</td>\n",
       "      <td>3</td>\n",
       "    </tr>\n",
       "    <tr>\n",
       "      <th>320155</th>\n",
       "      <td>17.0</td>\n",
       "      <td>0</td>\n",
       "      <td>245.0</td>\n",
       "      <td>0.0</td>\n",
       "      <td>2.566667</td>\n",
       "      <td>4.3157</td>\n",
       "      <td>0.000000</td>\n",
       "      <td>0.000000</td>\n",
       "      <td>2</td>\n",
       "    </tr>\n",
       "    <tr>\n",
       "      <th>441123</th>\n",
       "      <td>4598.0</td>\n",
       "      <td>1</td>\n",
       "      <td>117.0</td>\n",
       "      <td>1.0</td>\n",
       "      <td>115.616667</td>\n",
       "      <td>4.3434</td>\n",
       "      <td>0.000000</td>\n",
       "      <td>0.000000</td>\n",
       "      <td>0</td>\n",
       "    </tr>\n",
       "  </tbody>\n",
       "</table>\n",
       "</div>"
      ],
      "text/plain": [
       "        allot_time  cancelled  lifetime_order_count  reassigned_order  \\\n",
       "190762         2.0          0                  62.0               0.0   \n",
       "84507         44.0          0                3770.0               0.0   \n",
       "384199         2.0          0                1398.0               0.0   \n",
       "320155        17.0          0                 245.0               0.0   \n",
       "441123      4598.0          1                 117.0               1.0   \n",
       "\n",
       "        session_time  total_distance  %undelivered_orders  odds_undeliver  \\\n",
       "190762     72.666667          3.9465             0.000000        0.000000   \n",
       "84507     287.250000          2.2739             0.018868        0.019231   \n",
       "384199    534.033333          7.7549             0.000000        0.000000   \n",
       "320155      2.566667          4.3157             0.000000        0.000000   \n",
       "441123    115.616667          4.3434             0.000000        0.000000   \n",
       "\n",
       "        order_hour  \n",
       "190762           3  \n",
       "84507            2  \n",
       "384199           3  \n",
       "320155           2  \n",
       "441123           0  "
      ]
     },
     "execution_count": 43,
     "metadata": {},
     "output_type": "execute_result"
    }
   ],
   "source": [
    "# Since our classes are highly skewed we should make them equivalent in order to have a normal distribution of the classes.\n",
    "\n",
    "# Lets shuffle the data before creating the subsamples\n",
    "\n",
    "train_data = t_train.sample(frac=1)\n",
    "\n",
    "# Amount of fraud classes in proportion.\n",
    "canc = train_data[train_data['cancelled'] == 1]\n",
    "not_canc = train_data[train_data['cancelled'] == 0][:15000]\n",
    "\n",
    "\n",
    "normal_distributed_df = pd.concat([canc,not_canc,canc,canc])\n",
    "\n",
    "# Shuffle dataframe rows\n",
    "new_df = normal_distributed_df.sample(frac=1, random_state=42)\n",
    "\n",
    "new_df.head()"
   ]
  },
  {
   "cell_type": "code",
   "execution_count": 44,
   "id": "7f879510",
   "metadata": {},
   "outputs": [
    {
     "name": "stderr",
     "output_type": "stream",
     "text": [
      "C:\\Users\\Aayushi\\Anaconda3\\lib\\site-packages\\seaborn\\_decorators.py:36: FutureWarning: Pass the following variable as a keyword arg: x. From version 0.12, the only valid positional argument will be `data`, and passing other arguments without an explicit keyword will result in an error or misinterpretation.\n",
      "  warnings.warn(\n"
     ]
    },
    {
     "data": {
      "image/png": "[encoded data removed]",
      "text/plain": [
       "<Figure size 432x288 with 1 Axes>"
      ]
     },
     "metadata": {},
     "output_type": "display_data"
    }
   ],
   "source": [
    "plt.title('Distribution of target variable')\n",
    "sns.countplot(new_df['cancelled'])\n",
    "plt.show()"
   ]
  },
  {
   "cell_type": "markdown",
   "id": "d12e01f4",
   "metadata": {},
   "source": [
    "t_train_c = t_train[t_train['cancelled']==1].sample(int(t_train[t_train['cancelled']==1].shape[0]*1),replace=False,random_state=42)\n",
    "t_train_d = t_train[t_train['cancelled']==0].sample(int(t_train_c.shape[0])*1,random_state=42)\n",
    "combined_df = pd.concat([t_train_c,t_train_d])"
   ]
  },
  {
   "cell_type": "markdown",
   "id": "1c37d314",
   "metadata": {},
   "source": [
    "plt.title('Distribution of target variable')\n",
    "sns.countplot(combined_df['cancelled'])\n",
    "plt.show()"
   ]
  },
  {
   "cell_type": "markdown",
   "id": "2dbf36b2",
   "metadata": {},
   "source": [
    "### X-Y Split"
   ]
  },
  {
   "cell_type": "markdown",
   "id": "8fa1b449",
   "metadata": {},
   "source": [
    "X_train= combined_df.drop(['cancelled'], axis=1).copy()\n",
    "Y_train= combined_df['cancelled'].copy()\n",
    "\n",
    "X_test= t_test.drop(['cancelled'], axis=1).copy()\n",
    "Y_test= t_test['cancelled'].copy()"
   ]
  },
  {
   "cell_type": "code",
   "execution_count": 45,
   "id": "c8212308",
   "metadata": {},
   "outputs": [],
   "source": [
    "new_X_train= new_df.drop(['cancelled'], axis=1).copy()\n",
    "new_Y_train= new_df['cancelled'].copy()\n",
    "\n",
    "new_X_test= t_test.drop(['cancelled'], axis=1).copy()\n",
    "new_Y_test= t_test['cancelled'].copy()"
   ]
  },
  {
   "cell_type": "markdown",
   "id": "787b770a",
   "metadata": {},
   "source": [
    "### Label Encoding"
   ]
  },
  {
   "cell_type": "markdown",
   "id": "c6f1ae63",
   "metadata": {},
   "source": [
    "X_train_data_enc= pd.get_dummies(X_train, columns=['order_hour','reassigned_order'])\n",
    "X_test_data_enc= pd.get_dummies(X_test, columns=['order_hour','reassigned_order'])\n",
    "test_data=pd.get_dummies(test_data, columns=['order_hour','reassigned_order'])"
   ]
  },
  {
   "cell_type": "code",
   "execution_count": 46,
   "id": "c1b455ca",
   "metadata": {},
   "outputs": [],
   "source": [
    "X_train_data_enc= pd.get_dummies(new_X_train, columns=['order_hour','reassigned_order'])\n",
    "X_test_data_enc= pd.get_dummies(new_X_test, columns=['order_hour','reassigned_order'])\n",
    "test_data=pd.get_dummies(test_data, columns=['order_hour','reassigned_order'])"
   ]
  },
  {
   "cell_type": "markdown",
   "id": "eaf0c66c",
   "metadata": {},
   "source": [
    "### Confusion Matrix Function"
   ]
  },
  {
   "cell_type": "code",
   "execution_count": 47,
   "id": "8358d86e",
   "metadata": {},
   "outputs": [],
   "source": [
    "# A function to create confusion matrix function to find out sensitivity and specificity\n",
    "from sklearn.metrics import confusion_matrix\n",
    "def draw_cm(actual, predicted):\n",
    "    cm = confusion_matrix( actual, predicted, [1,0]).T\n",
    "    sns.heatmap(cm, annot=True,  fmt='.2f', xticklabels = [\"Yes\",\"No\"] , yticklabels = [\"Yes\",\"No\"] )\n",
    "    plt.ylabel('Predicted')\n",
    "    plt.xlabel('Actual')\n",
    "    plt.show()"
   ]
  },
  {
   "cell_type": "markdown",
   "id": "38031c13",
   "metadata": {},
   "source": [
    "### Modelling "
   ]
  },
  {
   "cell_type": "code",
   "execution_count": 48,
   "id": "22bb1e83",
   "metadata": {},
   "outputs": [],
   "source": [
    "X_train_ANN= X_train_data_enc.copy()\n",
    "X_test_ANN= X_test_data_enc.copy()\n",
    "\n",
    "Y_train_ANN= new_Y_train.copy()\n",
    "Y_test_ANN= new_Y_test.copy()"
   ]
  },
  {
   "cell_type": "code",
   "execution_count": 49,
   "id": "01614c69",
   "metadata": {},
   "outputs": [
    {
     "data": {
      "text/html": [
       "<div>\n",
       "<style scoped>\n",
       "    .dataframe tbody tr th:only-of-type {\n",
       "        vertical-align: middle;\n",
       "    }\n",
       "\n",
       "    .dataframe tbody tr th {\n",
       "        vertical-align: top;\n",
       "    }\n",
       "\n",
       "    .dataframe thead th {\n",
       "        text-align: right;\n",
       "    }\n",
       "</style>\n",
       "<table border=\"1\" class=\"dataframe\">\n",
       "  <thead>\n",
       "    <tr style=\"text-align: right;\">\n",
       "      <th></th>\n",
       "      <th>allot_time</th>\n",
       "      <th>lifetime_order_count</th>\n",
       "      <th>session_time</th>\n",
       "      <th>total_distance</th>\n",
       "      <th>%undelivered_orders</th>\n",
       "      <th>odds_undeliver</th>\n",
       "      <th>order_hour_0</th>\n",
       "      <th>order_hour_1</th>\n",
       "      <th>order_hour_2</th>\n",
       "      <th>order_hour_3</th>\n",
       "      <th>reassigned_order_0.0</th>\n",
       "      <th>reassigned_order_1.0</th>\n",
       "    </tr>\n",
       "  </thead>\n",
       "  <tbody>\n",
       "    <tr>\n",
       "      <th>190762</th>\n",
       "      <td>2.0</td>\n",
       "      <td>62.0</td>\n",
       "      <td>72.666667</td>\n",
       "      <td>3.9465</td>\n",
       "      <td>0.000000</td>\n",
       "      <td>0.000000</td>\n",
       "      <td>0</td>\n",
       "      <td>0</td>\n",
       "      <td>0</td>\n",
       "      <td>1</td>\n",
       "      <td>1</td>\n",
       "      <td>0</td>\n",
       "    </tr>\n",
       "    <tr>\n",
       "      <th>84507</th>\n",
       "      <td>44.0</td>\n",
       "      <td>3770.0</td>\n",
       "      <td>287.250000</td>\n",
       "      <td>2.2739</td>\n",
       "      <td>0.018868</td>\n",
       "      <td>0.019231</td>\n",
       "      <td>0</td>\n",
       "      <td>0</td>\n",
       "      <td>1</td>\n",
       "      <td>0</td>\n",
       "      <td>1</td>\n",
       "      <td>0</td>\n",
       "    </tr>\n",
       "    <tr>\n",
       "      <th>384199</th>\n",
       "      <td>2.0</td>\n",
       "      <td>1398.0</td>\n",
       "      <td>534.033333</td>\n",
       "      <td>7.7549</td>\n",
       "      <td>0.000000</td>\n",
       "      <td>0.000000</td>\n",
       "      <td>0</td>\n",
       "      <td>0</td>\n",
       "      <td>0</td>\n",
       "      <td>1</td>\n",
       "      <td>1</td>\n",
       "      <td>0</td>\n",
       "    </tr>\n",
       "    <tr>\n",
       "      <th>320155</th>\n",
       "      <td>17.0</td>\n",
       "      <td>245.0</td>\n",
       "      <td>2.566667</td>\n",
       "      <td>4.3157</td>\n",
       "      <td>0.000000</td>\n",
       "      <td>0.000000</td>\n",
       "      <td>0</td>\n",
       "      <td>0</td>\n",
       "      <td>1</td>\n",
       "      <td>0</td>\n",
       "      <td>1</td>\n",
       "      <td>0</td>\n",
       "    </tr>\n",
       "    <tr>\n",
       "      <th>441123</th>\n",
       "      <td>4598.0</td>\n",
       "      <td>117.0</td>\n",
       "      <td>115.616667</td>\n",
       "      <td>4.3434</td>\n",
       "      <td>0.000000</td>\n",
       "      <td>0.000000</td>\n",
       "      <td>1</td>\n",
       "      <td>0</td>\n",
       "      <td>0</td>\n",
       "      <td>0</td>\n",
       "      <td>0</td>\n",
       "      <td>1</td>\n",
       "    </tr>\n",
       "  </tbody>\n",
       "</table>\n",
       "</div>"
      ],
      "text/plain": [
       "        allot_time  lifetime_order_count  session_time  total_distance  \\\n",
       "190762         2.0                  62.0     72.666667          3.9465   \n",
       "84507         44.0                3770.0    287.250000          2.2739   \n",
       "384199         2.0                1398.0    534.033333          7.7549   \n",
       "320155        17.0                 245.0      2.566667          4.3157   \n",
       "441123      4598.0                 117.0    115.616667          4.3434   \n",
       "\n",
       "        %undelivered_orders  odds_undeliver  order_hour_0  order_hour_1  \\\n",
       "190762             0.000000        0.000000             0             0   \n",
       "84507              0.018868        0.019231             0             0   \n",
       "384199             0.000000        0.000000             0             0   \n",
       "320155             0.000000        0.000000             0             0   \n",
       "441123             0.000000        0.000000             1             0   \n",
       "\n",
       "        order_hour_2  order_hour_3  reassigned_order_0.0  reassigned_order_1.0  \n",
       "190762             0             1                     1                     0  \n",
       "84507              1             0                     1                     0  \n",
       "384199             0             1                     1                     0  \n",
       "320155             1             0                     1                     0  \n",
       "441123             0             0                     0                     1  "
      ]
     },
     "execution_count": 49,
     "metadata": {},
     "output_type": "execute_result"
    }
   ],
   "source": [
    "X_train_ANN.head()"
   ]
  },
  {
   "cell_type": "code",
   "execution_count": 50,
   "id": "6441755e",
   "metadata": {},
   "outputs": [],
   "source": [
    "# Importing the Keras libraries and packages\n",
    "from tensorflow import keras\n",
    "\n",
    "from keras.models import Sequential\n",
    "from keras.layers import Dense"
   ]
  },
  {
   "cell_type": "code",
   "execution_count": 51,
   "id": "b2898b39",
   "metadata": {},
   "outputs": [],
   "source": [
    "classifier = Sequential()\n",
    "\n",
    "#add input layer and first hidden layer\n",
    "classifier.add(Dense(5, kernel_initializer='random_uniform', activation = 'relu', input_dim = 12))"
   ]
  },
  {
   "cell_type": "code",
   "execution_count": 52,
   "id": "d699e7a1",
   "metadata": {},
   "outputs": [],
   "source": [
    "#add 2nd hidden layer\n",
    "classifier.add(Dense(5, bias_initializer='random_uniform', activation = 'relu'))"
   ]
  },
  {
   "cell_type": "code",
   "execution_count": 53,
   "id": "eccedb22",
   "metadata": {},
   "outputs": [],
   "source": [
    "#add 3rd hidden layer\n",
    "classifier.add(Dense(5, bias_initializer='random_uniform', activation = 'relu'))"
   ]
  },
  {
   "cell_type": "code",
   "execution_count": 54,
   "id": "d7b48463",
   "metadata": {},
   "outputs": [],
   "source": [
    "classifier.add(Dense(1, bias_initializer='random_uniform', activation = 'sigmoid'))"
   ]
  },
  {
   "cell_type": "code",
   "execution_count": 55,
   "id": "5996d565",
   "metadata": {},
   "outputs": [
    {
     "name": "stderr",
     "output_type": "stream",
     "text": [
      "C:\\Users\\Aayushi\\Anaconda3\\lib\\site-packages\\keras\\optimizer_v2\\adam.py:105: UserWarning: The `lr` argument is deprecated, use `learning_rate` instead.\n",
      "  super(Adam, self).__init__(name, **kwargs)\n"
     ]
    }
   ],
   "source": [
    "optimizer = keras.optimizers.Adam(lr=0.0001)\n",
    "classifier.compile(optimizer = optimizer, loss ='binary_crossentropy', metrics = ['accuracy'])"
   ]
  },
  {
   "cell_type": "code",
   "execution_count": 56,
   "id": "5b458fe6",
   "metadata": {},
   "outputs": [
    {
     "name": "stdout",
     "output_type": "stream",
     "text": [
      "Epoch 1/100\n",
      "836/836 [==============================] - 2s 2ms/step - loss: 0.8437 - accuracy: 0.4567 - val_loss: 0.6567 - val_accuracy: 0.7311\n",
      "Epoch 2/100\n",
      "836/836 [==============================] - 2s 2ms/step - loss: 0.6665 - accuracy: 0.5960 - val_loss: 0.6265 - val_accuracy: 0.8709\n",
      "Epoch 3/100\n",
      "836/836 [==============================] - 2s 2ms/step - loss: 0.6538 - accuracy: 0.6100 - val_loss: 0.5666 - val_accuracy: 0.9135\n",
      "Epoch 4/100\n",
      "836/836 [==============================] - 2s 2ms/step - loss: 0.6411 - accuracy: 0.6177 - val_loss: 0.4978 - val_accuracy: 0.9417\n",
      "Epoch 5/100\n",
      "836/836 [==============================] - 2s 2ms/step - loss: 0.6355 - accuracy: 0.6210 - val_loss: 0.5258 - val_accuracy: 0.9419\n",
      "Epoch 6/100\n",
      "836/836 [==============================] - 2s 2ms/step - loss: 0.6344 - accuracy: 0.6222 - val_loss: 0.5457 - val_accuracy: 0.9342\n",
      "Epoch 7/100\n",
      "836/836 [==============================] - 2s 2ms/step - loss: 0.6332 - accuracy: 0.6258 - val_loss: 0.5012 - val_accuracy: 0.9483\n",
      "Epoch 8/100\n",
      "836/836 [==============================] - 2s 2ms/step - loss: 0.6321 - accuracy: 0.6342 - val_loss: 0.5392 - val_accuracy: 0.8802\n",
      "Epoch 9/100\n",
      "836/836 [==============================] - 2s 2ms/step - loss: 0.6310 - accuracy: 0.6469 - val_loss: 0.5480 - val_accuracy: 0.8817\n",
      "Epoch 10/100\n",
      "836/836 [==============================] - 2s 2ms/step - loss: 0.6302 - accuracy: 0.6543 - val_loss: 0.5319 - val_accuracy: 0.8772\n",
      "Epoch 11/100\n",
      "836/836 [==============================] - 2s 2ms/step - loss: 0.6284 - accuracy: 0.6581 - val_loss: 0.5305 - val_accuracy: 0.9013\n",
      "Epoch 12/100\n",
      "836/836 [==============================] - 2s 2ms/step - loss: 0.6245 - accuracy: 0.6652 - val_loss: 0.5392 - val_accuracy: 0.8651\n",
      "Epoch 13/100\n",
      "836/836 [==============================] - 2s 2ms/step - loss: 0.6217 - accuracy: 0.6650 - val_loss: 0.5257 - val_accuracy: 0.8795\n",
      "Epoch 14/100\n",
      "836/836 [==============================] - 2s 2ms/step - loss: 0.6188 - accuracy: 0.6672 - val_loss: 0.5085 - val_accuracy: 0.8906\n",
      "Epoch 15/100\n",
      "836/836 [==============================] - 2s 2ms/step - loss: 0.6165 - accuracy: 0.6682 - val_loss: 0.5052 - val_accuracy: 0.8856\n",
      "Epoch 16/100\n",
      "836/836 [==============================] - 2s 2ms/step - loss: 0.6135 - accuracy: 0.6704 - val_loss: 0.5641 - val_accuracy: 0.8437\n",
      "Epoch 17/100\n",
      "836/836 [==============================] - 2s 2ms/step - loss: 0.6117 - accuracy: 0.6719 - val_loss: 0.5003 - val_accuracy: 0.8872\n",
      "Epoch 18/100\n",
      "836/836 [==============================] - 2s 2ms/step - loss: 0.6097 - accuracy: 0.6728 - val_loss: 0.5331 - val_accuracy: 0.8663\n",
      "Epoch 19/100\n",
      "836/836 [==============================] - 2s 2ms/step - loss: 0.6084 - accuracy: 0.6742 - val_loss: 0.5389 - val_accuracy: 0.8714\n",
      "Epoch 20/100\n",
      "836/836 [==============================] - 2s 2ms/step - loss: 0.6071 - accuracy: 0.6743 - val_loss: 0.5051 - val_accuracy: 0.8772\n",
      "Epoch 21/100\n",
      "836/836 [==============================] - 2s 2ms/step - loss: 0.6063 - accuracy: 0.6749 - val_loss: 0.5288 - val_accuracy: 0.8765\n",
      "Epoch 22/100\n",
      "836/836 [==============================] - 2s 2ms/step - loss: 0.6052 - accuracy: 0.6755 - val_loss: 0.5373 - val_accuracy: 0.8602\n",
      "Epoch 23/100\n",
      "836/836 [==============================] - 2s 3ms/step - loss: 0.6041 - accuracy: 0.6762 - val_loss: 0.4889 - val_accuracy: 0.8997\n",
      "Epoch 24/100\n",
      "836/836 [==============================] - 2s 3ms/step - loss: 0.6031 - accuracy: 0.6764 - val_loss: 0.4842 - val_accuracy: 0.8965\n",
      "Epoch 25/100\n",
      "836/836 [==============================] - 2s 2ms/step - loss: 0.6021 - accuracy: 0.6779 - val_loss: 0.5150 - val_accuracy: 0.8842\n",
      "Epoch 26/100\n",
      "836/836 [==============================] - 2s 2ms/step - loss: 0.6016 - accuracy: 0.6784 - val_loss: 0.4948 - val_accuracy: 0.8916\n",
      "Epoch 27/100\n",
      "836/836 [==============================] - 2s 2ms/step - loss: 0.6003 - accuracy: 0.6775 - val_loss: 0.4856 - val_accuracy: 0.8920\n",
      "Epoch 28/100\n",
      "836/836 [==============================] - 2s 2ms/step - loss: 0.6004 - accuracy: 0.6774 - val_loss: 0.4980 - val_accuracy: 0.8809\n",
      "Epoch 29/100\n",
      "836/836 [==============================] - 2s 2ms/step - loss: 0.5989 - accuracy: 0.6793 - val_loss: 0.5022 - val_accuracy: 0.8840\n",
      "Epoch 30/100\n",
      "836/836 [==============================] - 2s 2ms/step - loss: 0.5988 - accuracy: 0.6797 - val_loss: 0.5139 - val_accuracy: 0.8780\n",
      "Epoch 31/100\n",
      "836/836 [==============================] - 2s 2ms/step - loss: 0.5980 - accuracy: 0.6811 - val_loss: 0.5329 - val_accuracy: 0.8466\n",
      "Epoch 32/100\n",
      "836/836 [==============================] - 2s 2ms/step - loss: 0.5972 - accuracy: 0.6795 - val_loss: 0.4987 - val_accuracy: 0.8803\n",
      "Epoch 33/100\n",
      "836/836 [==============================] - 2s 2ms/step - loss: 0.5972 - accuracy: 0.6803 - val_loss: 0.4946 - val_accuracy: 0.8778\n",
      "Epoch 34/100\n",
      "836/836 [==============================] - 2s 2ms/step - loss: 0.5964 - accuracy: 0.6810 - val_loss: 0.4824 - val_accuracy: 0.8924\n",
      "Epoch 35/100\n",
      "836/836 [==============================] - 3s 4ms/step - loss: 0.5957 - accuracy: 0.6813 - val_loss: 0.5012 - val_accuracy: 0.8830\n",
      "Epoch 36/100\n",
      "836/836 [==============================] - 3s 3ms/step - loss: 0.5963 - accuracy: 0.6807 - val_loss: 0.5038 - val_accuracy: 0.8847\n",
      "Epoch 37/100\n",
      "836/836 [==============================] - 2s 2ms/step - loss: 0.5954 - accuracy: 0.6822 - val_loss: 0.4943 - val_accuracy: 0.8864\n",
      "Epoch 38/100\n",
      "836/836 [==============================] - 2s 2ms/step - loss: 0.5947 - accuracy: 0.6824 - val_loss: 0.5004 - val_accuracy: 0.8909\n",
      "Epoch 39/100\n",
      "836/836 [==============================] - 2s 3ms/step - loss: 0.5946 - accuracy: 0.6818 - val_loss: 0.4855 - val_accuracy: 0.9026\n",
      "Epoch 40/100\n",
      "836/836 [==============================] - 3s 3ms/step - loss: 0.5939 - accuracy: 0.6827 - val_loss: 0.4972 - val_accuracy: 0.8898\n",
      "Epoch 41/100\n",
      "836/836 [==============================] - 2s 3ms/step - loss: 0.5934 - accuracy: 0.6831 - val_loss: 0.4891 - val_accuracy: 0.8924\n",
      "Epoch 42/100\n",
      "836/836 [==============================] - 2s 3ms/step - loss: 0.5928 - accuracy: 0.6820 - val_loss: 0.5047 - val_accuracy: 0.8920\n",
      "Epoch 43/100\n",
      "836/836 [==============================] - 3s 3ms/step - loss: 0.5944 - accuracy: 0.6830 - val_loss: 0.4784 - val_accuracy: 0.9035\n",
      "Epoch 44/100\n",
      "836/836 [==============================] - 2s 3ms/step - loss: 0.5942 - accuracy: 0.6821 - val_loss: 0.4952 - val_accuracy: 0.9090\n",
      "Epoch 45/100\n",
      "836/836 [==============================] - 2s 2ms/step - loss: 0.5925 - accuracy: 0.6822 - val_loss: 0.4792 - val_accuracy: 0.8966\n",
      "Epoch 46/100\n",
      "836/836 [==============================] - 2s 2ms/step - loss: 0.5915 - accuracy: 0.6840 - val_loss: 0.4634 - val_accuracy: 0.9136\n",
      "Epoch 47/100\n",
      "836/836 [==============================] - 2s 2ms/step - loss: 0.5920 - accuracy: 0.6831 - val_loss: 0.4733 - val_accuracy: 0.9063\n",
      "Epoch 48/100\n",
      "836/836 [==============================] - 2s 3ms/step - loss: 0.5907 - accuracy: 0.6848 - val_loss: 0.4788 - val_accuracy: 0.8993\n",
      "Epoch 49/100\n",
      "836/836 [==============================] - 2s 3ms/step - loss: 0.5914 - accuracy: 0.6836 - val_loss: 0.4801 - val_accuracy: 0.9000\n",
      "Epoch 50/100\n",
      "836/836 [==============================] - 2s 2ms/step - loss: 0.5911 - accuracy: 0.6841 - val_loss: 0.4587 - val_accuracy: 0.9123\n",
      "Epoch 51/100\n",
      "836/836 [==============================] - 2s 3ms/step - loss: 0.5906 - accuracy: 0.6840 - val_loss: 0.4752 - val_accuracy: 0.9118\n",
      "Epoch 52/100\n",
      "836/836 [==============================] - 2s 2ms/step - loss: 0.5921 - accuracy: 0.6830 - val_loss: 0.4756 - val_accuracy: 0.9126\n",
      "Epoch 53/100\n",
      "836/836 [==============================] - 2s 3ms/step - loss: 0.5901 - accuracy: 0.6853 - val_loss: 0.5017 - val_accuracy: 0.8888\n",
      "Epoch 54/100\n",
      "836/836 [==============================] - 2s 2ms/step - loss: 0.5904 - accuracy: 0.6858 - val_loss: 0.4600 - val_accuracy: 0.9123\n",
      "Epoch 55/100\n",
      "836/836 [==============================] - 2s 2ms/step - loss: 0.5900 - accuracy: 0.6854 - val_loss: 0.4516 - val_accuracy: 0.9117\n",
      "Epoch 56/100\n",
      "836/836 [==============================] - 2s 2ms/step - loss: 0.5901 - accuracy: 0.6853 - val_loss: 0.4578 - val_accuracy: 0.9083\n",
      "Epoch 57/100\n",
      "836/836 [==============================] - 2s 2ms/step - loss: 0.5894 - accuracy: 0.6854 - val_loss: 0.4430 - val_accuracy: 0.9154\n"
     ]
    },
    {
     "name": "stdout",
     "output_type": "stream",
     "text": [
      "Epoch 58/100\n",
      "836/836 [==============================] - 2s 2ms/step - loss: 0.5900 - accuracy: 0.6853 - val_loss: 0.5171 - val_accuracy: 0.8941\n",
      "Epoch 59/100\n",
      "836/836 [==============================] - 2s 2ms/step - loss: 0.5895 - accuracy: 0.6865 - val_loss: 0.4922 - val_accuracy: 0.8916\n",
      "Epoch 60/100\n",
      "836/836 [==============================] - 2s 2ms/step - loss: 0.5910 - accuracy: 0.6850 - val_loss: 0.4969 - val_accuracy: 0.9060\n",
      "Epoch 61/100\n",
      "836/836 [==============================] - 2s 2ms/step - loss: 0.5887 - accuracy: 0.6860 - val_loss: 0.5096 - val_accuracy: 0.8833\n",
      "Epoch 62/100\n",
      "836/836 [==============================] - 2s 2ms/step - loss: 0.5894 - accuracy: 0.6859 - val_loss: 0.4752 - val_accuracy: 0.9074\n",
      "Epoch 63/100\n",
      "836/836 [==============================] - 2s 2ms/step - loss: 0.5885 - accuracy: 0.6866 - val_loss: 0.4757 - val_accuracy: 0.9066\n",
      "Epoch 64/100\n",
      "836/836 [==============================] - 3s 3ms/step - loss: 0.5888 - accuracy: 0.6867 - val_loss: 0.5124 - val_accuracy: 0.8843\n",
      "Epoch 65/100\n",
      "836/836 [==============================] - 2s 3ms/step - loss: 0.5882 - accuracy: 0.6868 - val_loss: 0.5107 - val_accuracy: 0.8769\n",
      "Epoch 66/100\n",
      "836/836 [==============================] - 2s 2ms/step - loss: 0.5889 - accuracy: 0.6872 - val_loss: 0.4697 - val_accuracy: 0.9017\n",
      "Epoch 67/100\n",
      "836/836 [==============================] - 2s 2ms/step - loss: 0.5880 - accuracy: 0.6869 - val_loss: 0.5004 - val_accuracy: 0.8964\n",
      "Epoch 68/100\n",
      "836/836 [==============================] - 2s 2ms/step - loss: 0.5883 - accuracy: 0.6865 - val_loss: 0.4876 - val_accuracy: 0.9049\n",
      "Epoch 69/100\n",
      "836/836 [==============================] - 2s 2ms/step - loss: 0.5886 - accuracy: 0.6868 - val_loss: 0.5122 - val_accuracy: 0.8845\n",
      "Epoch 70/100\n",
      "836/836 [==============================] - 2s 2ms/step - loss: 0.5886 - accuracy: 0.6859 - val_loss: 0.4960 - val_accuracy: 0.8849\n",
      "Epoch 71/100\n",
      "836/836 [==============================] - 2s 3ms/step - loss: 0.5879 - accuracy: 0.6881 - val_loss: 0.5009 - val_accuracy: 0.8986\n",
      "Epoch 72/100\n",
      "836/836 [==============================] - 3s 4ms/step - loss: 0.5887 - accuracy: 0.6870 - val_loss: 0.5085 - val_accuracy: 0.8931\n",
      "Epoch 73/100\n",
      "836/836 [==============================] - 2s 2ms/step - loss: 0.5879 - accuracy: 0.6864 - val_loss: 0.5014 - val_accuracy: 0.8896\n",
      "Epoch 74/100\n",
      "836/836 [==============================] - 2s 3ms/step - loss: 0.5874 - accuracy: 0.6873 - val_loss: 0.4572 - val_accuracy: 0.9155\n",
      "Epoch 75/100\n",
      "836/836 [==============================] - 2s 2ms/step - loss: 0.5881 - accuracy: 0.6869 - val_loss: 0.4690 - val_accuracy: 0.9230\n",
      "Epoch 76/100\n",
      "836/836 [==============================] - 2s 2ms/step - loss: 0.5886 - accuracy: 0.6873 - val_loss: 0.4797 - val_accuracy: 0.8766\n",
      "Epoch 77/100\n",
      "836/836 [==============================] - 2s 2ms/step - loss: 0.5883 - accuracy: 0.6871 - val_loss: 0.4868 - val_accuracy: 0.9018\n",
      "Epoch 78/100\n",
      "836/836 [==============================] - 2s 2ms/step - loss: 0.5880 - accuracy: 0.6862 - val_loss: 0.5090 - val_accuracy: 0.8869\n",
      "Epoch 79/100\n",
      "836/836 [==============================] - 2s 2ms/step - loss: 0.5875 - accuracy: 0.6866 - val_loss: 0.4824 - val_accuracy: 0.9066\n",
      "Epoch 80/100\n",
      "836/836 [==============================] - 2s 2ms/step - loss: 0.5876 - accuracy: 0.6871 - val_loss: 0.4772 - val_accuracy: 0.9105\n",
      "Epoch 81/100\n",
      "836/836 [==============================] - 2s 2ms/step - loss: 0.5880 - accuracy: 0.6872 - val_loss: 0.4468 - val_accuracy: 0.9229\n",
      "Epoch 82/100\n",
      "836/836 [==============================] - 2s 2ms/step - loss: 0.5879 - accuracy: 0.6867 - val_loss: 0.4727 - val_accuracy: 0.9019\n",
      "Epoch 83/100\n",
      "836/836 [==============================] - 2s 3ms/step - loss: 0.5872 - accuracy: 0.6870 - val_loss: 0.4815 - val_accuracy: 0.8984\n",
      "Epoch 84/100\n",
      "836/836 [==============================] - 2s 2ms/step - loss: 0.5883 - accuracy: 0.6869 - val_loss: 0.4519 - val_accuracy: 0.9155\n",
      "Epoch 85/100\n",
      "836/836 [==============================] - 2s 3ms/step - loss: 0.5873 - accuracy: 0.6866 - val_loss: 0.4762 - val_accuracy: 0.9051\n",
      "Epoch 86/100\n",
      "836/836 [==============================] - 2s 2ms/step - loss: 0.5878 - accuracy: 0.6873 - val_loss: 0.4776 - val_accuracy: 0.8869\n",
      "Epoch 87/100\n",
      "836/836 [==============================] - 2s 2ms/step - loss: 0.5887 - accuracy: 0.6860 - val_loss: 0.4986 - val_accuracy: 0.8745\n",
      "Epoch 88/100\n",
      "836/836 [==============================] - 2s 2ms/step - loss: 0.5875 - accuracy: 0.6876 - val_loss: 0.4861 - val_accuracy: 0.8975\n",
      "Epoch 89/100\n",
      "836/836 [==============================] - 2s 2ms/step - loss: 0.5878 - accuracy: 0.6860 - val_loss: 0.4561 - val_accuracy: 0.9167\n",
      "Epoch 90/100\n",
      "836/836 [==============================] - 2s 2ms/step - loss: 0.5896 - accuracy: 0.6860 - val_loss: 0.4656 - val_accuracy: 0.8922\n",
      "Epoch 91/100\n",
      "836/836 [==============================] - 2s 2ms/step - loss: 0.5876 - accuracy: 0.6864 - val_loss: 0.4884 - val_accuracy: 0.9041\n",
      "Epoch 92/100\n",
      "836/836 [==============================] - 2s 2ms/step - loss: 0.5881 - accuracy: 0.6872 - val_loss: 0.4710 - val_accuracy: 0.9111\n",
      "Epoch 93/100\n",
      "836/836 [==============================] - 2s 2ms/step - loss: 0.5880 - accuracy: 0.6871 - val_loss: 0.4929 - val_accuracy: 0.8970\n",
      "Epoch 94/100\n",
      "836/836 [==============================] - 2s 2ms/step - loss: 0.5869 - accuracy: 0.6872 - val_loss: 0.4935 - val_accuracy: 0.8904\n",
      "Epoch 95/100\n",
      "836/836 [==============================] - 2s 2ms/step - loss: 0.5873 - accuracy: 0.6883 - val_loss: 0.4446 - val_accuracy: 0.9132\n",
      "Epoch 96/100\n",
      "836/836 [==============================] - 2s 2ms/step - loss: 0.5882 - accuracy: 0.6863 - val_loss: 0.4573 - val_accuracy: 0.9109\n",
      "Epoch 97/100\n",
      "836/836 [==============================] - 2s 2ms/step - loss: 0.5876 - accuracy: 0.6874 - val_loss: 0.4670 - val_accuracy: 0.9143\n",
      "Epoch 98/100\n",
      "836/836 [==============================] - 2s 2ms/step - loss: 0.5867 - accuracy: 0.6876 - val_loss: 0.4466 - val_accuracy: 0.9192\n",
      "Epoch 99/100\n",
      "836/836 [==============================] - 2s 2ms/step - loss: 0.5867 - accuracy: 0.6881 - val_loss: 0.4997 - val_accuracy: 0.8889\n",
      "Epoch 100/100\n",
      "836/836 [==============================] - 2s 2ms/step - loss: 0.5868 - accuracy: 0.6892 - val_loss: 0.4490 - val_accuracy: 0.9102\n"
     ]
    }
   ],
   "source": [
    "nn_history= classifier.fit(X_train_ANN, Y_train_ANN, batch_size = 32, epochs =100,validation_data = (X_test_ANN, Y_test_ANN))"
   ]
  },
  {
   "cell_type": "code",
   "execution_count": 57,
   "id": "d1b33a67",
   "metadata": {},
   "outputs": [],
   "source": [
    "y_pred_prob_ANN = classifier.predict(X_test_ANN)\n",
    "y_pred_ANN=np.where(y_pred_prob_ANN>0.5,1,0)"
   ]
  },
  {
   "cell_type": "code",
   "execution_count": 58,
   "id": "fc31dc26",
   "metadata": {},
   "outputs": [
    {
     "name": "stderr",
     "output_type": "stream",
     "text": [
      "C:\\Users\\Aayushi\\Anaconda3\\lib\\site-packages\\sklearn\\utils\\validation.py:70: FutureWarning: Pass labels=[1, 0] as keyword args. From version 1.0 (renaming of 0.25) passing these as positional arguments will result in an error\n",
      "  warnings.warn(f\"Pass {args_msg} as keyword args. From version \"\n"
     ]
    },
    {
     "data": {
      "image/png": "[encoded data removed]",
      "text/plain": [
       "<Figure size 432x288 with 2 Axes>"
      ]
     },
     "metadata": {},
     "output_type": "display_data"
    }
   ],
   "source": [
    "draw_cm(Y_test_ANN, y_pred_ANN)"
   ]
  },
  {
   "cell_type": "code",
   "execution_count": 59,
   "id": "1a30cb62",
   "metadata": {},
   "outputs": [],
   "source": [
    "# Predicting on the test dataset\n",
    "test_data = np.asarray(test_data).astype(np.float32)\n",
    "my_pred_prob_ANN = classifier.predict(test_data)\n",
    "\n",
    "my_pred_ANN=np.where(my_pred_prob_ANN>0.5,1,0)"
   ]
  },
  {
   "cell_type": "markdown",
   "id": "2f6bbfd3",
   "metadata": {},
   "source": [
    "### XGBoost"
   ]
  },
  {
   "cell_type": "code",
   "execution_count": 60,
   "id": "edb6b65d",
   "metadata": {},
   "outputs": [],
   "source": [
    "X_train_XG= X_train_data_enc.copy()\n",
    "X_test_XG= X_test_data_enc.copy()\n",
    "\n",
    "Y_train_XG= new_Y_train.copy()\n",
    "Y_test_XG= new_Y_test.copy()"
   ]
  },
  {
   "cell_type": "code",
   "execution_count": 61,
   "id": "d4aec980",
   "metadata": {},
   "outputs": [
    {
     "data": {
      "text/plain": [
       "190762    0\n",
       "84507     0\n",
       "384199    0\n",
       "320155    0\n",
       "441123    1\n",
       "         ..\n",
       "343074    1\n",
       "447577    0\n",
       "45685     1\n",
       "154226    0\n",
       "368926    1\n",
       "Name: cancelled, Length: 26739, dtype: int64"
      ]
     },
     "execution_count": 61,
     "metadata": {},
     "output_type": "execute_result"
    }
   ],
   "source": [
    "Y_train_XG"
   ]
  },
  {
   "cell_type": "code",
   "execution_count": 62,
   "id": "437ee23a",
   "metadata": {},
   "outputs": [
    {
     "name": "stdout",
     "output_type": "stream",
     "text": [
      "[0]\tvalidation_0-auc:0.66756\n",
      "[1]\tvalidation_0-auc:0.68947\n",
      "[2]\tvalidation_0-auc:0.69561\n",
      "[3]\tvalidation_0-auc:0.70782\n",
      "[4]\tvalidation_0-auc:0.71316\n",
      "[5]\tvalidation_0-auc:0.71455\n",
      "[6]\tvalidation_0-auc:0.71454\n",
      "[7]\tvalidation_0-auc:0.71626\n"
     ]
    },
    {
     "name": "stderr",
     "output_type": "stream",
     "text": [
      "C:\\Users\\Aayushi\\Anaconda3\\lib\\site-packages\\xgboost\\sklearn.py:1224: UserWarning: The use of label encoder in XGBClassifier is deprecated and will be removed in a future release. To remove this warning, do the following: 1) Pass option use_label_encoder=False when constructing XGBClassifier object; and 2) Encode your labels (y) as integers starting with 0, i.e. 0, 1, 2, ..., [num_class - 1].\n",
      "  warnings.warn(label_encoder_deprecation_msg, UserWarning)\n"
     ]
    },
    {
     "name": "stdout",
     "output_type": "stream",
     "text": [
      "[8]\tvalidation_0-auc:0.71595\n",
      "[9]\tvalidation_0-auc:0.71676\n",
      "[10]\tvalidation_0-auc:0.71685\n",
      "[11]\tvalidation_0-auc:0.71665\n",
      "[12]\tvalidation_0-auc:0.71715\n",
      "[13]\tvalidation_0-auc:0.71854\n",
      "[14]\tvalidation_0-auc:0.71924\n",
      "[15]\tvalidation_0-auc:0.72001\n",
      "[16]\tvalidation_0-auc:0.72119\n",
      "[17]\tvalidation_0-auc:0.72188\n",
      "[18]\tvalidation_0-auc:0.72220\n",
      "[19]\tvalidation_0-auc:0.72197\n",
      "[20]\tvalidation_0-auc:0.72249\n",
      "[21]\tvalidation_0-auc:0.72295\n",
      "[22]\tvalidation_0-auc:0.72338\n",
      "[23]\tvalidation_0-auc:0.72329\n",
      "[24]\tvalidation_0-auc:0.72301\n",
      "[25]\tvalidation_0-auc:0.72274\n",
      "[26]\tvalidation_0-auc:0.72267\n",
      "[27]\tvalidation_0-auc:0.72298\n",
      "[28]\tvalidation_0-auc:0.72305\n",
      "[29]\tvalidation_0-auc:0.72335\n",
      "[30]\tvalidation_0-auc:0.72381\n",
      "[31]\tvalidation_0-auc:0.72442\n",
      "[32]\tvalidation_0-auc:0.72479\n",
      "[33]\tvalidation_0-auc:0.72425\n",
      "[34]\tvalidation_0-auc:0.72421\n",
      "[35]\tvalidation_0-auc:0.72507\n",
      "[36]\tvalidation_0-auc:0.72508\n",
      "[37]\tvalidation_0-auc:0.72530\n",
      "[38]\tvalidation_0-auc:0.72523\n",
      "[39]\tvalidation_0-auc:0.72462\n",
      "[40]\tvalidation_0-auc:0.72462\n",
      "[41]\tvalidation_0-auc:0.72484\n",
      "[42]\tvalidation_0-auc:0.72477\n",
      "[43]\tvalidation_0-auc:0.72460\n",
      "[44]\tvalidation_0-auc:0.72460\n",
      "[45]\tvalidation_0-auc:0.72475\n",
      "[46]\tvalidation_0-auc:0.72439\n",
      "[47]\tvalidation_0-auc:0.72442\n"
     ]
    },
    {
     "data": {
      "text/plain": [
       "XGBClassifier(base_score=0.5, booster='gbtree', colsample_bylevel=1,\n",
       "              colsample_bynode=1, colsample_bytree=0.6,\n",
       "              enable_categorical=False, gamma=0.1, gpu_id=-1,\n",
       "              importance_type=None, interaction_constraints='',\n",
       "              learning_rate=0.01, max_delta_step=0, max_depth=7,\n",
       "              min_child_weight=1, missing=nan, monotone_constraints='()',\n",
       "              n_estimators=100, n_jobs=8, num_parallel_tree=1, predictor='auto',\n",
       "              random_state=0, reg_alpha=0, reg_lambda=0, scale_pos_weight=1,\n",
       "              subsample=0.6, tree_method='exact', validate_parameters=1,\n",
       "              verbosity=None)"
      ]
     },
     "execution_count": 62,
     "metadata": {},
     "output_type": "execute_result"
    }
   ],
   "source": [
    "from sklearn import metrics\n",
    "import lightgbm as lgb\n",
    "from xgboost import plot_importance\n",
    "\n",
    "# Create a XGB Classifier\n",
    "gbm = xgb.XGBClassifier(objective='binary:logistic', base_score=0.5, booster='gbtree', colsample_bylevel=1,colsample_bynode=1, colsample_bytree=0.6,\n",
    "                        enable_categorical=False, gamma=0.1, gpu_id=-1, interaction_constraints='',\n",
    "                        learning_rate=0.01, max_delta_step=0, max_depth=7,min_child_weight=1, monotone_constraints='()',\n",
    "                        n_estimators=100, n_jobs=8, num_parallel_tree=1, predictor='auto',random_state=0, reg_alpha=0, reg_lambda=0, scale_pos_weight=1,\n",
    "                          subsample=0.6, tree_method='exact', validate_parameters=1,verbosity=None)\n",
    "gbm.fit(X_train_XG, Y_train_XG, early_stopping_rounds=10, eval_metric='auc', eval_set=[(X_test_XG, Y_test_XG)])"
   ]
  },
  {
   "cell_type": "code",
   "execution_count": 63,
   "id": "a4adccc8",
   "metadata": {},
   "outputs": [],
   "source": [
    "y_pred_XG = gbm.predict(X_test_XG)"
   ]
  },
  {
   "cell_type": "code",
   "execution_count": 64,
   "id": "20cb153d",
   "metadata": {},
   "outputs": [
    {
     "name": "stdout",
     "output_type": "stream",
     "text": [
      "Test Accuracy:  0.9161333333333334\n",
      "Train Accuracy:  0.7097124051011631\n",
      "AUC Score: 0.6652604697246682\n"
     ]
    }
   ],
   "source": [
    "print('Test Accuracy: ',gbm.score(X_test_XG,Y_test_XG))\n",
    "print('Train Accuracy: ',gbm.score(X_train_XG,Y_train_XG))\n",
    "print('AUC Score:',roc_auc_score(new_Y_test,y_pred_XG))"
   ]
  },
  {
   "cell_type": "code",
   "execution_count": 65,
   "id": "ebf30133",
   "metadata": {},
   "outputs": [
    {
     "name": "stderr",
     "output_type": "stream",
     "text": [
      "C:\\Users\\Aayushi\\Anaconda3\\lib\\site-packages\\sklearn\\utils\\validation.py:70: FutureWarning: Pass labels=[1, 0] as keyword args. From version 1.0 (renaming of 0.25) passing these as positional arguments will result in an error\n",
      "  warnings.warn(f\"Pass {args_msg} as keyword args. From version \"\n"
     ]
    },
    {
     "data": {
      "image/png": "[encoded data removed]",
      "text/plain": [
       "<Figure size 432x288 with 2 Axes>"
      ]
     },
     "metadata": {},
     "output_type": "display_data"
    }
   ],
   "source": [
    "# Confusion matrix \n",
    "draw_cm(Y_test_XG, y_pred_XG)"
   ]
  },
  {
   "cell_type": "code",
   "execution_count": 66,
   "id": "ba8d03b4",
   "metadata": {},
   "outputs": [],
   "source": [
    "# Predicting on the test dataset\n",
    "my_pred_XG = gbm.predict(test_data)"
   ]
  },
  {
   "cell_type": "markdown",
   "id": "9dba439d",
   "metadata": {},
   "source": [
    "### Light GBM"
   ]
  },
  {
   "cell_type": "code",
   "execution_count": 67,
   "id": "10b9b787",
   "metadata": {},
   "outputs": [],
   "source": [
    "X_train_light= X_train_data_enc.copy()\n",
    "X_test_light= X_test_data_enc.copy()\n",
    "\n",
    "Y_train_light= new_Y_train.copy()\n",
    "Y_test_light= new_Y_test.copy()"
   ]
  },
  {
   "cell_type": "code",
   "execution_count": 68,
   "id": "e30549b1",
   "metadata": {},
   "outputs": [
    {
     "name": "stdout",
     "output_type": "stream",
     "text": [
      "[LightGBM] [Warning] Unknown parameter: gamma\n"
     ]
    },
    {
     "data": {
      "text/plain": [
       "LGBMClassifier(colsample_bytree=0.6, gamma=2, max_depth=7, objective='binary',\n",
       "               random_state=42, reg_lambda=0, subsample=0.9)"
      ]
     },
     "execution_count": 68,
     "metadata": {},
     "output_type": "execute_result"
    }
   ],
   "source": [
    "from sklearn import metrics\n",
    "import lightgbm as lgb \n",
    "# Create a XGB Classifier\n",
    "model = lgb.LGBMClassifier(boosting_type='gbdt',  objective='binary', learning_rate=0.10,reg_lambda=0, max_depth=7,random_state=42,subsample=0.9, colsample_bytree=0.6, gamma=2)\n",
    "model.fit(X_train_light,Y_train_light,eval_metric='auc')"
   ]
  },
  {
   "cell_type": "code",
   "execution_count": 69,
   "id": "348e273f",
   "metadata": {},
   "outputs": [],
   "source": [
    "y_pred_light = model.predict(X_test_light)"
   ]
  },
  {
   "cell_type": "code",
   "execution_count": 70,
   "id": "087827b8",
   "metadata": {},
   "outputs": [
    {
     "name": "stdout",
     "output_type": "stream",
     "text": [
      "Test Accuracy:  0.9029955555555556\n",
      "Train Accuracy:  0.7528703392049066\n",
      "AUC Score: 0.6718670679499048\n"
     ]
    }
   ],
   "source": [
    "print('Test Accuracy: ',model.score(X_test_light,Y_test_light))\n",
    "print('Train Accuracy: ',model.score(X_train_light,Y_train_light))\n",
    "print('AUC Score:',roc_auc_score(new_Y_test,y_pred_light))"
   ]
  },
  {
   "cell_type": "code",
   "execution_count": 71,
   "id": "05452282",
   "metadata": {},
   "outputs": [
    {
     "name": "stderr",
     "output_type": "stream",
     "text": [
      "C:\\Users\\Aayushi\\Anaconda3\\lib\\site-packages\\sklearn\\utils\\validation.py:70: FutureWarning: Pass labels=[1, 0] as keyword args. From version 1.0 (renaming of 0.25) passing these as positional arguments will result in an error\n",
      "  warnings.warn(f\"Pass {args_msg} as keyword args. From version \"\n"
     ]
    },
    {
     "data": {
      "image/png": "[encoded data removed]",
      "text/plain": [
       "<Figure size 432x288 with 2 Axes>"
      ]
     },
     "metadata": {},
     "output_type": "display_data"
    }
   ],
   "source": [
    "# Confusion matrix \n",
    "draw_cm(Y_test_light, y_pred_light)"
   ]
  },
  {
   "cell_type": "markdown",
   "id": "451ab63c",
   "metadata": {},
   "source": [
    "### Random Forest"
   ]
  },
  {
   "cell_type": "code",
   "execution_count": 72,
   "id": "dfad6053",
   "metadata": {},
   "outputs": [],
   "source": [
    "X_train_RF= X_train_data_enc.copy()\n",
    "X_test_RF= X_test_data_enc.copy()\n",
    "\n",
    "Y_train_RF= new_Y_train.copy()\n",
    "Y_test_RF= new_Y_test.copy()"
   ]
  },
  {
   "cell_type": "code",
   "execution_count": 73,
   "id": "9e59c1a6",
   "metadata": {},
   "outputs": [
    {
     "data": {
      "text/plain": [
       "RandomForestClassifier(criterion='entropy', max_depth=3, min_samples_leaf=5,\n",
       "                       n_estimators=25, random_state=0)"
      ]
     },
     "execution_count": 73,
     "metadata": {},
     "output_type": "execute_result"
    }
   ],
   "source": [
    "# Random Forest Classifier\n",
    "\n",
    "#Import library of RandomForestClassifier model\n",
    "from sklearn.ensemble import RandomForestRegressor\n",
    "from sklearn.ensemble import RandomForestClassifier\n",
    "\n",
    "# Create a Random Forest Classifier\n",
    "rf = RandomForestClassifier()\n",
    "rf=RandomForestClassifier(n_estimators=25, criterion='entropy',max_features= 'auto', max_depth=3, min_samples_split= 2, min_samples_leaf=5, random_state=0)\n",
    "# Run the grid search\n",
    "rf.fit(X_train_RF,Y_train_RF)"
   ]
  },
  {
   "cell_type": "code",
   "execution_count": 74,
   "id": "ae82ffd0",
   "metadata": {},
   "outputs": [],
   "source": [
    "y_pred_RF = model.predict(X_test_RF)"
   ]
  },
  {
   "cell_type": "code",
   "execution_count": 75,
   "id": "d977adb3",
   "metadata": {},
   "outputs": [
    {
     "name": "stderr",
     "output_type": "stream",
     "text": [
      "C:\\Users\\Aayushi\\Anaconda3\\lib\\site-packages\\sklearn\\utils\\validation.py:70: FutureWarning: Pass labels=[1, 0] as keyword args. From version 1.0 (renaming of 0.25) passing these as positional arguments will result in an error\n",
      "  warnings.warn(f\"Pass {args_msg} as keyword args. From version \"\n"
     ]
    },
    {
     "data": {
      "image/png": "[encoded data removed]",
      "text/plain": [
       "<Figure size 432x288 with 2 Axes>"
      ]
     },
     "metadata": {},
     "output_type": "display_data"
    }
   ],
   "source": [
    "# Confusion matrix \n",
    "draw_cm(Y_test_RF, y_pred_RF)"
   ]
  },
  {
   "cell_type": "code",
   "execution_count": 76,
   "id": "51ae1681",
   "metadata": {},
   "outputs": [],
   "source": [
    "# Predicting on the test dataset\n",
    "my_pred_RF = model.predict(test_data)"
   ]
  },
  {
   "cell_type": "markdown",
   "id": "ae605747",
   "metadata": {},
   "source": [
    "### Stacking"
   ]
  },
  {
   "cell_type": "code",
   "execution_count": 77,
   "id": "5867c72c",
   "metadata": {},
   "outputs": [],
   "source": [
    "from mlxtend.classifier import StackingCVClassifier\n",
    "stack= StackingCVClassifier(classifiers=(rf,gbm,model),\n",
    "                                meta_classifier=gbm,\n",
    "                                use_features_in_secondary=True)"
   ]
  },
  {
   "cell_type": "code",
   "execution_count": 78,
   "id": "ae9bad1f",
   "metadata": {},
   "outputs": [
    {
     "name": "stderr",
     "output_type": "stream",
     "text": [
      "C:\\Users\\Aayushi\\Anaconda3\\lib\\site-packages\\xgboost\\sklearn.py:1224: UserWarning: The use of label encoder in XGBClassifier is deprecated and will be removed in a future release. To remove this warning, do the following: 1) Pass option use_label_encoder=False when constructing XGBClassifier object; and 2) Encode your labels (y) as integers starting with 0, i.e. 0, 1, 2, ..., [num_class - 1].\n",
      "  warnings.warn(label_encoder_deprecation_msg, UserWarning)\n"
     ]
    },
    {
     "name": "stdout",
     "output_type": "stream",
     "text": [
      "[17:04:46] WARNING: C:/Users/Administrator/workspace/xgboost-win64_release_1.5.1/src/learner.cc:1115: Starting in XGBoost 1.3.0, the default evaluation metric used with the objective 'binary:logistic' was changed from 'error' to 'logloss'. Explicitly set eval_metric if you'd like to restore the old behavior.\n"
     ]
    },
    {
     "name": "stderr",
     "output_type": "stream",
     "text": [
      "C:\\Users\\Aayushi\\Anaconda3\\lib\\site-packages\\xgboost\\sklearn.py:1224: UserWarning: The use of label encoder in XGBClassifier is deprecated and will be removed in a future release. To remove this warning, do the following: 1) Pass option use_label_encoder=False when constructing XGBClassifier object; and 2) Encode your labels (y) as integers starting with 0, i.e. 0, 1, 2, ..., [num_class - 1].\n",
      "  warnings.warn(label_encoder_deprecation_msg, UserWarning)\n"
     ]
    },
    {
     "name": "stdout",
     "output_type": "stream",
     "text": [
      "[17:04:46] WARNING: C:/Users/Administrator/workspace/xgboost-win64_release_1.5.1/src/learner.cc:1115: Starting in XGBoost 1.3.0, the default evaluation metric used with the objective 'binary:logistic' was changed from 'error' to 'logloss'. Explicitly set eval_metric if you'd like to restore the old behavior.\n",
      "[LightGBM] [Warning] Unknown parameter: gamma\n",
      "[LightGBM] [Warning] Unknown parameter: gamma\n"
     ]
    },
    {
     "name": "stderr",
     "output_type": "stream",
     "text": [
      "C:\\Users\\Aayushi\\Anaconda3\\lib\\site-packages\\xgboost\\sklearn.py:1224: UserWarning: The use of label encoder in XGBClassifier is deprecated and will be removed in a future release. To remove this warning, do the following: 1) Pass option use_label_encoder=False when constructing XGBClassifier object; and 2) Encode your labels (y) as integers starting with 0, i.e. 0, 1, 2, ..., [num_class - 1].\n",
      "  warnings.warn(label_encoder_deprecation_msg, UserWarning)\n"
     ]
    },
    {
     "name": "stdout",
     "output_type": "stream",
     "text": [
      "[17:04:47] WARNING: C:/Users/Administrator/workspace/xgboost-win64_release_1.5.1/src/learner.cc:1115: Starting in XGBoost 1.3.0, the default evaluation metric used with the objective 'binary:logistic' was changed from 'error' to 'logloss'. Explicitly set eval_metric if you'd like to restore the old behavior.\n",
      "[LightGBM] [Warning] Unknown parameter: gamma\n",
      "[17:04:48] WARNING: C:/Users/Administrator/workspace/xgboost-win64_release_1.5.1/src/learner.cc:1115: Starting in XGBoost 1.3.0, the default evaluation metric used with the objective 'binary:logistic' was changed from 'error' to 'logloss'. Explicitly set eval_metric if you'd like to restore the old behavior.\n"
     ]
    },
    {
     "name": "stderr",
     "output_type": "stream",
     "text": [
      "C:\\Users\\Aayushi\\Anaconda3\\lib\\site-packages\\xgboost\\sklearn.py:1224: UserWarning: The use of label encoder in XGBClassifier is deprecated and will be removed in a future release. To remove this warning, do the following: 1) Pass option use_label_encoder=False when constructing XGBClassifier object; and 2) Encode your labels (y) as integers starting with 0, i.e. 0, 1, 2, ..., [num_class - 1].\n",
      "  warnings.warn(label_encoder_deprecation_msg, UserWarning)\n"
     ]
    }
   ],
   "source": [
    "stack_= stack.fit(np.array(X_train_data_enc), np.array(new_Y_train))"
   ]
  },
  {
   "cell_type": "code",
   "execution_count": 79,
   "id": "c5f976d2",
   "metadata": {},
   "outputs": [],
   "source": [
    "y_pred=stack.predict(X_test_data_enc)"
   ]
  },
  {
   "cell_type": "code",
   "execution_count": 80,
   "id": "bfe5bd8d",
   "metadata": {},
   "outputs": [
    {
     "name": "stderr",
     "output_type": "stream",
     "text": [
      "C:\\Users\\Aayushi\\Anaconda3\\lib\\site-packages\\sklearn\\utils\\validation.py:70: FutureWarning: Pass labels=[1, 0] as keyword args. From version 1.0 (renaming of 0.25) passing these as positional arguments will result in an error\n",
      "  warnings.warn(f\"Pass {args_msg} as keyword args. From version \"\n"
     ]
    },
    {
     "data": {
      "image/png": "[encoded data removed]",
      "text/plain": [
       "<Figure size 432x288 with 2 Axes>"
      ]
     },
     "metadata": {},
     "output_type": "display_data"
    }
   ],
   "source": [
    "draw_cm(new_Y_test,y_pred)"
   ]
  },
  {
   "cell_type": "code",
   "execution_count": 81,
   "id": "b9e12bca",
   "metadata": {},
   "outputs": [],
   "source": [
    "#prediction\n",
    "my_pred=stack.predict(test_data)"
   ]
  },
  {
   "cell_type": "code",
   "execution_count": 82,
   "id": "39cb499b",
   "metadata": {},
   "outputs": [],
   "source": [
    "my_submission['cancelled'] = my_pred"
   ]
  },
  {
   "cell_type": "code",
   "execution_count": 83,
   "id": "0b1e6386",
   "metadata": {},
   "outputs": [
    {
     "data": {
      "text/html": [
       "<div>\n",
       "<style scoped>\n",
       "    .dataframe tbody tr th:only-of-type {\n",
       "        vertical-align: middle;\n",
       "    }\n",
       "\n",
       "    .dataframe tbody tr th {\n",
       "        vertical-align: top;\n",
       "    }\n",
       "\n",
       "    .dataframe thead th {\n",
       "        text-align: right;\n",
       "    }\n",
       "</style>\n",
       "<table border=\"1\" class=\"dataframe\">\n",
       "  <thead>\n",
       "    <tr style=\"text-align: right;\">\n",
       "      <th></th>\n",
       "      <th>order_id</th>\n",
       "      <th>cancelled</th>\n",
       "    </tr>\n",
       "  </thead>\n",
       "  <tbody>\n",
       "    <tr>\n",
       "      <th>0</th>\n",
       "      <td>130231</td>\n",
       "      <td>0</td>\n",
       "    </tr>\n",
       "    <tr>\n",
       "      <th>1</th>\n",
       "      <td>130232</td>\n",
       "      <td>0</td>\n",
       "    </tr>\n",
       "    <tr>\n",
       "      <th>2</th>\n",
       "      <td>130233</td>\n",
       "      <td>0</td>\n",
       "    </tr>\n",
       "    <tr>\n",
       "      <th>3</th>\n",
       "      <td>130234</td>\n",
       "      <td>0</td>\n",
       "    </tr>\n",
       "    <tr>\n",
       "      <th>4</th>\n",
       "      <td>130235</td>\n",
       "      <td>0</td>\n",
       "    </tr>\n",
       "    <tr>\n",
       "      <th>...</th>\n",
       "      <td>...</td>\n",
       "      <td>...</td>\n",
       "    </tr>\n",
       "    <tr>\n",
       "      <th>144839</th>\n",
       "      <td>41184</td>\n",
       "      <td>0</td>\n",
       "    </tr>\n",
       "    <tr>\n",
       "      <th>144840</th>\n",
       "      <td>41185</td>\n",
       "      <td>0</td>\n",
       "    </tr>\n",
       "    <tr>\n",
       "      <th>144841</th>\n",
       "      <td>41186</td>\n",
       "      <td>0</td>\n",
       "    </tr>\n",
       "    <tr>\n",
       "      <th>144842</th>\n",
       "      <td>41187</td>\n",
       "      <td>0</td>\n",
       "    </tr>\n",
       "    <tr>\n",
       "      <th>144843</th>\n",
       "      <td>41188</td>\n",
       "      <td>1</td>\n",
       "    </tr>\n",
       "  </tbody>\n",
       "</table>\n",
       "<p>144844 rows × 2 columns</p>\n",
       "</div>"
      ],
      "text/plain": [
       "        order_id  cancelled\n",
       "0         130231          0\n",
       "1         130232          0\n",
       "2         130233          0\n",
       "3         130234          0\n",
       "4         130235          0\n",
       "...          ...        ...\n",
       "144839     41184          0\n",
       "144840     41185          0\n",
       "144841     41186          0\n",
       "144842     41187          0\n",
       "144843     41188          1\n",
       "\n",
       "[144844 rows x 2 columns]"
      ]
     },
     "execution_count": 83,
     "metadata": {},
     "output_type": "execute_result"
    }
   ],
   "source": [
    "my_submission"
   ]
  },
  {
   "cell_type": "code",
   "execution_count": 84,
   "id": "cf7d198f",
   "metadata": {},
   "outputs": [
    {
     "name": "stdout",
     "output_type": "stream",
     "text": [
      "Saved file to disk.\n"
     ]
    }
   ],
   "source": [
    "# Saving predictions to file\n",
    "my_submission.to_csv('Stacked_Model_Prediction1.csv', index=False)\n",
    "print('Saved file to disk.')"
   ]
  }
 ],
 "metadata": {
  "kernelspec": {
   "display_name": "Python 3",
   "language": "python",
   "name": "python3"
  },
  "language_info": {
   "codemirror_mode": {
    "name": "ipython",
    "version": 3
   },
   "file_extension": ".py",
   "mimetype": "text/x-python",
   "name": "python",
   "nbconvert_exporter": "python",
   "pygments_lexer": "ipython3",
   "version": "3.8.8"
  }
 },
 "nbformat": 4,
 "nbformat_minor": 5
}
